{
 "cells": [
  {
   "cell_type": "code",
   "execution_count": 1,
   "id": "5e1e2125",
   "metadata": {},
   "outputs": [],
   "source": [
    "# 1147 Assignment 3"
   ]
  },
  {
   "cell_type": "code",
   "execution_count": 2,
   "id": "54818c82",
   "metadata": {},
   "outputs": [],
   "source": [
    "# 1.1 Import the data and create the anchor date columns"
   ]
  },
  {
   "cell_type": "code",
   "execution_count": 3,
   "id": "072a8a02",
   "metadata": {},
   "outputs": [],
   "source": [
    "# 1. Import the dataset as txn and identify the number of rows"
   ]
  },
  {
   "cell_type": "code",
   "execution_count": 1,
   "id": "98e4966e",
   "metadata": {},
   "outputs": [
    {
     "data": {
      "text/html": [
       "<div>\n",
       "<style scoped>\n",
       "    .dataframe tbody tr th:only-of-type {\n",
       "        vertical-align: middle;\n",
       "    }\n",
       "\n",
       "    .dataframe tbody tr th {\n",
       "        vertical-align: top;\n",
       "    }\n",
       "\n",
       "    .dataframe thead th {\n",
       "        text-align: right;\n",
       "    }\n",
       "</style>\n",
       "<table border=\"1\" class=\"dataframe\">\n",
       "  <thead>\n",
       "    <tr style=\"text-align: right;\">\n",
       "      <th></th>\n",
       "      <th>customer_id</th>\n",
       "      <th>trans_date</th>\n",
       "      <th>tran_amount</th>\n",
       "    </tr>\n",
       "  </thead>\n",
       "  <tbody>\n",
       "    <tr>\n",
       "      <th>0</th>\n",
       "      <td>CS5295</td>\n",
       "      <td>11-Feb-13</td>\n",
       "      <td>35</td>\n",
       "    </tr>\n",
       "    <tr>\n",
       "      <th>1</th>\n",
       "      <td>CS4768</td>\n",
       "      <td>15-Mar-15</td>\n",
       "      <td>39</td>\n",
       "    </tr>\n",
       "    <tr>\n",
       "      <th>2</th>\n",
       "      <td>CS2122</td>\n",
       "      <td>26-Feb-13</td>\n",
       "      <td>52</td>\n",
       "    </tr>\n",
       "    <tr>\n",
       "      <th>3</th>\n",
       "      <td>CS1217</td>\n",
       "      <td>16-Nov-11</td>\n",
       "      <td>99</td>\n",
       "    </tr>\n",
       "    <tr>\n",
       "      <th>4</th>\n",
       "      <td>CS1850</td>\n",
       "      <td>20-Nov-13</td>\n",
       "      <td>78</td>\n",
       "    </tr>\n",
       "  </tbody>\n",
       "</table>\n",
       "</div>"
      ],
      "text/plain": [
       "  customer_id trans_date  tran_amount\n",
       "0      CS5295  11-Feb-13           35\n",
       "1      CS4768  15-Mar-15           39\n",
       "2      CS2122  26-Feb-13           52\n",
       "3      CS1217  16-Nov-11           99\n",
       "4      CS1850  20-Nov-13           78"
      ]
     },
     "execution_count": 1,
     "metadata": {},
     "output_type": "execute_result"
    }
   ],
   "source": [
    "import pandas as pd\n",
    "txn = pd.read_csv('/Users/chelseali/Desktop/Retail_Data_Transactions.csv')\n",
    "txn.head()"
   ]
  },
  {
   "cell_type": "code",
   "execution_count": 2,
   "id": "e86a2c7e",
   "metadata": {},
   "outputs": [
    {
     "data": {
      "text/plain": [
       "125000"
      ]
     },
     "execution_count": 2,
     "metadata": {},
     "output_type": "execute_result"
    }
   ],
   "source": [
    "txn.shape[0]\n",
    "# There are 125000 rows in dataset"
   ]
  },
  {
   "cell_type": "code",
   "execution_count": 3,
   "id": "37f80f22",
   "metadata": {},
   "outputs": [],
   "source": [
    "# The date-format in column ’trans date’ is not standard. Create a new column ’txn_date’\n",
    "# from ’trans_date’ with pd.to datetime and drop the column ’trans_date’."
   ]
  },
  {
   "cell_type": "code",
   "execution_count": 4,
   "id": "4018fb10",
   "metadata": {},
   "outputs": [
    {
     "data": {
      "text/html": [
       "<div>\n",
       "<style scoped>\n",
       "    .dataframe tbody tr th:only-of-type {\n",
       "        vertical-align: middle;\n",
       "    }\n",
       "\n",
       "    .dataframe tbody tr th {\n",
       "        vertical-align: top;\n",
       "    }\n",
       "\n",
       "    .dataframe thead th {\n",
       "        text-align: right;\n",
       "    }\n",
       "</style>\n",
       "<table border=\"1\" class=\"dataframe\">\n",
       "  <thead>\n",
       "    <tr style=\"text-align: right;\">\n",
       "      <th></th>\n",
       "      <th>customer_id</th>\n",
       "      <th>tran_amount</th>\n",
       "      <th>txn_date</th>\n",
       "    </tr>\n",
       "  </thead>\n",
       "  <tbody>\n",
       "    <tr>\n",
       "      <th>0</th>\n",
       "      <td>CS5295</td>\n",
       "      <td>35</td>\n",
       "      <td>2013-02-11</td>\n",
       "    </tr>\n",
       "    <tr>\n",
       "      <th>1</th>\n",
       "      <td>CS4768</td>\n",
       "      <td>39</td>\n",
       "      <td>2015-03-15</td>\n",
       "    </tr>\n",
       "    <tr>\n",
       "      <th>2</th>\n",
       "      <td>CS2122</td>\n",
       "      <td>52</td>\n",
       "      <td>2013-02-26</td>\n",
       "    </tr>\n",
       "    <tr>\n",
       "      <th>3</th>\n",
       "      <td>CS1217</td>\n",
       "      <td>99</td>\n",
       "      <td>2011-11-16</td>\n",
       "    </tr>\n",
       "    <tr>\n",
       "      <th>4</th>\n",
       "      <td>CS1850</td>\n",
       "      <td>78</td>\n",
       "      <td>2013-11-20</td>\n",
       "    </tr>\n",
       "  </tbody>\n",
       "</table>\n",
       "</div>"
      ],
      "text/plain": [
       "  customer_id  tran_amount   txn_date\n",
       "0      CS5295           35 2013-02-11\n",
       "1      CS4768           39 2015-03-15\n",
       "2      CS2122           52 2013-02-26\n",
       "3      CS1217           99 2011-11-16\n",
       "4      CS1850           78 2013-11-20"
      ]
     },
     "execution_count": 4,
     "metadata": {},
     "output_type": "execute_result"
    }
   ],
   "source": [
    "# Create a new column called 'txn_date'\n",
    "txn['txn_date'] = pd.to_datetime(txn['trans_date'])\n",
    "# Drop the column ’trans_date’\n",
    "txn.drop('trans_date',inplace=True, axis = 1)\n",
    "txn.head()"
   ]
  },
  {
   "cell_type": "code",
   "execution_count": 8,
   "id": "08344287",
   "metadata": {},
   "outputs": [],
   "source": [
    "# Identify the min() and max() of column ’txn date’."
   ]
  },
  {
   "cell_type": "code",
   "execution_count": 5,
   "id": "4bfeff7c",
   "metadata": {},
   "outputs": [
    {
     "data": {
      "text/plain": [
       "Timestamp('2011-05-16 00:00:00')"
      ]
     },
     "execution_count": 5,
     "metadata": {},
     "output_type": "execute_result"
    }
   ],
   "source": [
    "txn['txn_date'].min()\n",
    "# Min is '2011-05-16 00:00:00'"
   ]
  },
  {
   "cell_type": "code",
   "execution_count": 6,
   "id": "67310c2b",
   "metadata": {},
   "outputs": [
    {
     "data": {
      "text/plain": [
       "Timestamp('2015-03-16 00:00:00')"
      ]
     },
     "execution_count": 6,
     "metadata": {},
     "output_type": "execute_result"
    }
   ],
   "source": [
    "txn['txn_date'].max()\n",
    "# Max is '2015-03-16 00:00:00'"
   ]
  },
  {
   "cell_type": "code",
   "execution_count": 7,
   "id": "10ff2d7d",
   "metadata": {},
   "outputs": [],
   "source": [
    "# 4. Create the column ’ME_DT’: the last day of the month in the ’trans_date’ column.\n",
    "# DateOffset objects is a simple way to do this in pandas."
   ]
  },
  {
   "cell_type": "code",
   "execution_count": 8,
   "id": "a573fc28",
   "metadata": {},
   "outputs": [
    {
     "data": {
      "text/html": [
       "<div>\n",
       "<style scoped>\n",
       "    .dataframe tbody tr th:only-of-type {\n",
       "        vertical-align: middle;\n",
       "    }\n",
       "\n",
       "    .dataframe tbody tr th {\n",
       "        vertical-align: top;\n",
       "    }\n",
       "\n",
       "    .dataframe thead th {\n",
       "        text-align: right;\n",
       "    }\n",
       "</style>\n",
       "<table border=\"1\" class=\"dataframe\">\n",
       "  <thead>\n",
       "    <tr style=\"text-align: right;\">\n",
       "      <th></th>\n",
       "      <th>customer_id</th>\n",
       "      <th>tran_amount</th>\n",
       "      <th>txn_date</th>\n",
       "      <th>ME_DT</th>\n",
       "    </tr>\n",
       "  </thead>\n",
       "  <tbody>\n",
       "    <tr>\n",
       "      <th>0</th>\n",
       "      <td>CS5295</td>\n",
       "      <td>35</td>\n",
       "      <td>2013-02-11</td>\n",
       "      <td>2013-02-28</td>\n",
       "    </tr>\n",
       "    <tr>\n",
       "      <th>1</th>\n",
       "      <td>CS4768</td>\n",
       "      <td>39</td>\n",
       "      <td>2015-03-15</td>\n",
       "      <td>2015-03-31</td>\n",
       "    </tr>\n",
       "    <tr>\n",
       "      <th>2</th>\n",
       "      <td>CS2122</td>\n",
       "      <td>52</td>\n",
       "      <td>2013-02-26</td>\n",
       "      <td>2013-02-28</td>\n",
       "    </tr>\n",
       "    <tr>\n",
       "      <th>3</th>\n",
       "      <td>CS1217</td>\n",
       "      <td>99</td>\n",
       "      <td>2011-11-16</td>\n",
       "      <td>2011-11-30</td>\n",
       "    </tr>\n",
       "    <tr>\n",
       "      <th>4</th>\n",
       "      <td>CS1850</td>\n",
       "      <td>78</td>\n",
       "      <td>2013-11-20</td>\n",
       "      <td>2013-11-30</td>\n",
       "    </tr>\n",
       "  </tbody>\n",
       "</table>\n",
       "</div>"
      ],
      "text/plain": [
       "  customer_id  tran_amount   txn_date      ME_DT\n",
       "0      CS5295           35 2013-02-11 2013-02-28\n",
       "1      CS4768           39 2015-03-15 2015-03-31\n",
       "2      CS2122           52 2013-02-26 2013-02-28\n",
       "3      CS1217           99 2011-11-16 2011-11-30\n",
       "4      CS1850           78 2013-11-20 2013-11-30"
      ]
     },
     "execution_count": 8,
     "metadata": {},
     "output_type": "execute_result"
    }
   ],
   "source": [
    "from pandas.tseries.offsets import MonthEnd\n",
    "txn['ME_DT'] = txn['txn_date'] + MonthEnd(0) \n",
    "txn.head()"
   ]
  },
  {
   "cell_type": "code",
   "execution_count": 9,
   "id": "7d62f3bf",
   "metadata": {},
   "outputs": [],
   "source": [
    "# 5. Create the column ’YEAR’: the year in the ’trans_date’ column. \n",
    "# DatetimeIndex with attribute .year will help you do so."
   ]
  },
  {
   "cell_type": "code",
   "execution_count": 10,
   "id": "25102b4d",
   "metadata": {},
   "outputs": [
    {
     "data": {
      "text/html": [
       "<div>\n",
       "<style scoped>\n",
       "    .dataframe tbody tr th:only-of-type {\n",
       "        vertical-align: middle;\n",
       "    }\n",
       "\n",
       "    .dataframe tbody tr th {\n",
       "        vertical-align: top;\n",
       "    }\n",
       "\n",
       "    .dataframe thead th {\n",
       "        text-align: right;\n",
       "    }\n",
       "</style>\n",
       "<table border=\"1\" class=\"dataframe\">\n",
       "  <thead>\n",
       "    <tr style=\"text-align: right;\">\n",
       "      <th></th>\n",
       "      <th>customer_id</th>\n",
       "      <th>tran_amount</th>\n",
       "      <th>txn_date</th>\n",
       "      <th>ME_DT</th>\n",
       "      <th>YEAR</th>\n",
       "    </tr>\n",
       "  </thead>\n",
       "  <tbody>\n",
       "    <tr>\n",
       "      <th>0</th>\n",
       "      <td>CS5295</td>\n",
       "      <td>35</td>\n",
       "      <td>2013-02-11</td>\n",
       "      <td>2013-02-28</td>\n",
       "      <td>2013</td>\n",
       "    </tr>\n",
       "    <tr>\n",
       "      <th>1</th>\n",
       "      <td>CS4768</td>\n",
       "      <td>39</td>\n",
       "      <td>2015-03-15</td>\n",
       "      <td>2015-03-31</td>\n",
       "      <td>2015</td>\n",
       "    </tr>\n",
       "    <tr>\n",
       "      <th>2</th>\n",
       "      <td>CS2122</td>\n",
       "      <td>52</td>\n",
       "      <td>2013-02-26</td>\n",
       "      <td>2013-02-28</td>\n",
       "      <td>2013</td>\n",
       "    </tr>\n",
       "    <tr>\n",
       "      <th>3</th>\n",
       "      <td>CS1217</td>\n",
       "      <td>99</td>\n",
       "      <td>2011-11-16</td>\n",
       "      <td>2011-11-30</td>\n",
       "      <td>2011</td>\n",
       "    </tr>\n",
       "    <tr>\n",
       "      <th>4</th>\n",
       "      <td>CS1850</td>\n",
       "      <td>78</td>\n",
       "      <td>2013-11-20</td>\n",
       "      <td>2013-11-30</td>\n",
       "      <td>2013</td>\n",
       "    </tr>\n",
       "  </tbody>\n",
       "</table>\n",
       "</div>"
      ],
      "text/plain": [
       "  customer_id  tran_amount   txn_date      ME_DT  YEAR\n",
       "0      CS5295           35 2013-02-11 2013-02-28  2013\n",
       "1      CS4768           39 2015-03-15 2015-03-31  2015\n",
       "2      CS2122           52 2013-02-26 2013-02-28  2013\n",
       "3      CS1217           99 2011-11-16 2011-11-30  2011\n",
       "4      CS1850           78 2013-11-20 2013-11-30  2013"
      ]
     },
     "execution_count": 10,
     "metadata": {},
     "output_type": "execute_result"
    }
   ],
   "source": [
    "txn['YEAR'] = pd.DatetimeIndex(txn['txn_date']).year\n",
    "txn.head()"
   ]
  },
  {
   "cell_type": "code",
   "execution_count": 11,
   "id": "3939dbc7",
   "metadata": {},
   "outputs": [],
   "source": [
    "# 1.2 Create features that capture annual spending"
   ]
  },
  {
   "cell_type": "code",
   "execution_count": 12,
   "id": "5a3d1a44",
   "metadata": {},
   "outputs": [],
   "source": [
    "# Using groupby and NamedAgg create clnt_annual_aggregations,\n",
    "# the annual aggregations dataframe: \n",
    "# with sum, mean, std, var, sem, max, min, count as the aggregation functions. "
   ]
  },
  {
   "cell_type": "code",
   "execution_count": 13,
   "id": "168114c6",
   "metadata": {},
   "outputs": [
    {
     "data": {
      "text/html": [
       "<div>\n",
       "<style scoped>\n",
       "    .dataframe tbody tr th:only-of-type {\n",
       "        vertical-align: middle;\n",
       "    }\n",
       "\n",
       "    .dataframe tbody tr th {\n",
       "        vertical-align: top;\n",
       "    }\n",
       "\n",
       "    .dataframe thead th {\n",
       "        text-align: right;\n",
       "    }\n",
       "</style>\n",
       "<table border=\"1\" class=\"dataframe\">\n",
       "  <thead>\n",
       "    <tr style=\"text-align: right;\">\n",
       "      <th></th>\n",
       "      <th></th>\n",
       "      <th>ann_txn_amt_sum</th>\n",
       "      <th>ann_txn_amt_ave</th>\n",
       "      <th>ann_txn_amt_std</th>\n",
       "      <th>ann_txn_amt_var</th>\n",
       "      <th>ann_txn_amt_sem</th>\n",
       "      <th>ann_txn_amt_max</th>\n",
       "      <th>ann_txn_amt_min</th>\n",
       "      <th>ann_txn_amt_cnt</th>\n",
       "    </tr>\n",
       "    <tr>\n",
       "      <th>customer_id</th>\n",
       "      <th>YEAR</th>\n",
       "      <th></th>\n",
       "      <th></th>\n",
       "      <th></th>\n",
       "      <th></th>\n",
       "      <th></th>\n",
       "      <th></th>\n",
       "      <th></th>\n",
       "      <th></th>\n",
       "    </tr>\n",
       "  </thead>\n",
       "  <tbody>\n",
       "    <tr>\n",
       "      <th rowspan=\"5\" valign=\"top\">CS1112</th>\n",
       "      <th>2011</th>\n",
       "      <td>212</td>\n",
       "      <td>70.666667</td>\n",
       "      <td>22.030282</td>\n",
       "      <td>485.333333</td>\n",
       "      <td>12.719189</td>\n",
       "      <td>96</td>\n",
       "      <td>56</td>\n",
       "      <td>3</td>\n",
       "    </tr>\n",
       "    <tr>\n",
       "      <th>2012</th>\n",
       "      <td>337</td>\n",
       "      <td>67.400000</td>\n",
       "      <td>12.720063</td>\n",
       "      <td>161.800000</td>\n",
       "      <td>5.688585</td>\n",
       "      <td>81</td>\n",
       "      <td>52</td>\n",
       "      <td>5</td>\n",
       "    </tr>\n",
       "    <tr>\n",
       "      <th>2013</th>\n",
       "      <td>212</td>\n",
       "      <td>70.666667</td>\n",
       "      <td>34.501208</td>\n",
       "      <td>1190.333333</td>\n",
       "      <td>19.919282</td>\n",
       "      <td>105</td>\n",
       "      <td>36</td>\n",
       "      <td>3</td>\n",
       "    </tr>\n",
       "    <tr>\n",
       "      <th>2014</th>\n",
       "      <td>212</td>\n",
       "      <td>70.666667</td>\n",
       "      <td>16.862186</td>\n",
       "      <td>284.333333</td>\n",
       "      <td>9.735388</td>\n",
       "      <td>90</td>\n",
       "      <td>59</td>\n",
       "      <td>3</td>\n",
       "    </tr>\n",
       "    <tr>\n",
       "      <th>2015</th>\n",
       "      <td>39</td>\n",
       "      <td>39.000000</td>\n",
       "      <td>NaN</td>\n",
       "      <td>NaN</td>\n",
       "      <td>NaN</td>\n",
       "      <td>39</td>\n",
       "      <td>39</td>\n",
       "      <td>1</td>\n",
       "    </tr>\n",
       "  </tbody>\n",
       "</table>\n",
       "</div>"
      ],
      "text/plain": [
       "                  ann_txn_amt_sum  ann_txn_amt_ave  ann_txn_amt_std  \\\n",
       "customer_id YEAR                                                      \n",
       "CS1112      2011              212        70.666667        22.030282   \n",
       "            2012              337        67.400000        12.720063   \n",
       "            2013              212        70.666667        34.501208   \n",
       "            2014              212        70.666667        16.862186   \n",
       "            2015               39        39.000000              NaN   \n",
       "\n",
       "                  ann_txn_amt_var  ann_txn_amt_sem  ann_txn_amt_max  \\\n",
       "customer_id YEAR                                                      \n",
       "CS1112      2011       485.333333        12.719189               96   \n",
       "            2012       161.800000         5.688585               81   \n",
       "            2013      1190.333333        19.919282              105   \n",
       "            2014       284.333333         9.735388               90   \n",
       "            2015              NaN              NaN               39   \n",
       "\n",
       "                  ann_txn_amt_min  ann_txn_amt_cnt  \n",
       "customer_id YEAR                                    \n",
       "CS1112      2011               56                3  \n",
       "            2012               52                5  \n",
       "            2013               36                3  \n",
       "            2014               59                3  \n",
       "            2015               39                1  "
      ]
     },
     "execution_count": 13,
     "metadata": {},
     "output_type": "execute_result"
    }
   ],
   "source": [
    "clnt_annual_aggregations = txn.groupby([\"customer_id\",'YEAR']).agg(ann_txn_amt_sum = pd.NamedAgg('tran_amount','sum'),\n",
    "    ann_txn_amt_ave = pd.NamedAgg('tran_amount','mean'), ann_txn_amt_std = pd.NamedAgg('tran_amount','std'),\n",
    "    ann_txn_amt_var = pd.NamedAgg('tran_amount','var'), ann_txn_amt_sem = pd.NamedAgg('tran_amount','sem'),\n",
    "    ann_txn_amt_max = pd.NamedAgg('tran_amount','max'), ann_txn_amt_min = pd.NamedAgg('tran_amount','min'),\n",
    "    ann_txn_amt_cnt = pd.NamedAgg('tran_amount','count') )\n",
    "clnt_annual_aggregations.head()"
   ]
  },
  {
   "cell_type": "code",
   "execution_count": 14,
   "id": "90891d02",
   "metadata": {},
   "outputs": [],
   "source": [
    "# 2. Plot the histogram of the sum and count."
   ]
  },
  {
   "cell_type": "code",
   "execution_count": 15,
   "id": "48e78fc4",
   "metadata": {},
   "outputs": [
    {
     "data": {
      "image/png": "[encoded data removed]",
      "text/plain": [
       "<Figure size 432x288 with 1 Axes>"
      ]
     },
     "metadata": {
      "needs_background": "light"
     },
     "output_type": "display_data"
    }
   ],
   "source": [
    "import matplotlib.pyplot as plt\n",
    "plt.hist(clnt_annual_aggregations['ann_txn_amt_sum'])\n",
    "plt.title(\"Histogram of Sum\")\n",
    "plt.show()"
   ]
  },
  {
   "cell_type": "code",
   "execution_count": 16,
   "id": "aa4e6137",
   "metadata": {},
   "outputs": [
    {
     "data": {
      "image/png": "[encoded data removed]",
      "text/plain": [
       "<Figure size 432x288 with 1 Axes>"
      ]
     },
     "metadata": {
      "needs_background": "light"
     },
     "output_type": "display_data"
    }
   ],
   "source": [
    "plt.hist(clnt_annual_aggregations['ann_txn_amt_cnt'])\n",
    "plt.title(\"Histogram of Count\")\n",
    "plt.show()"
   ]
  },
  {
   "cell_type": "code",
   "execution_count": 17,
   "id": "54cf8424",
   "metadata": {},
   "outputs": [],
   "source": [
    "# Reset the index and reshape the table with the pivot table function to create the\n",
    "# clnt annual aggregations pivot table shown below with 40 columns (why 40?)."
   ]
  },
  {
   "cell_type": "code",
   "execution_count": 18,
   "id": "0efdcfec",
   "metadata": {},
   "outputs": [
    {
     "data": {
      "text/html": [
       "<div>\n",
       "<style scoped>\n",
       "    .dataframe tbody tr th:only-of-type {\n",
       "        vertical-align: middle;\n",
       "    }\n",
       "\n",
       "    .dataframe tbody tr th {\n",
       "        vertical-align: top;\n",
       "    }\n",
       "\n",
       "    .dataframe thead tr th {\n",
       "        text-align: left;\n",
       "    }\n",
       "\n",
       "    .dataframe thead tr:last-of-type th {\n",
       "        text-align: right;\n",
       "    }\n",
       "</style>\n",
       "<table border=\"1\" class=\"dataframe\">\n",
       "  <thead>\n",
       "    <tr>\n",
       "      <th></th>\n",
       "      <th colspan=\"5\" halign=\"left\">ann_txn_amt_ave</th>\n",
       "      <th colspan=\"5\" halign=\"left\">ann_txn_amt_cnt</th>\n",
       "      <th>...</th>\n",
       "      <th colspan=\"5\" halign=\"left\">ann_txn_amt_sum</th>\n",
       "      <th colspan=\"5\" halign=\"left\">ann_txn_amt_var</th>\n",
       "    </tr>\n",
       "    <tr>\n",
       "      <th>YEAR</th>\n",
       "      <th>2011</th>\n",
       "      <th>2012</th>\n",
       "      <th>2013</th>\n",
       "      <th>2014</th>\n",
       "      <th>2015</th>\n",
       "      <th>2011</th>\n",
       "      <th>2012</th>\n",
       "      <th>2013</th>\n",
       "      <th>2014</th>\n",
       "      <th>2015</th>\n",
       "      <th>...</th>\n",
       "      <th>2011</th>\n",
       "      <th>2012</th>\n",
       "      <th>2013</th>\n",
       "      <th>2014</th>\n",
       "      <th>2015</th>\n",
       "      <th>2011</th>\n",
       "      <th>2012</th>\n",
       "      <th>2013</th>\n",
       "      <th>2014</th>\n",
       "      <th>2015</th>\n",
       "    </tr>\n",
       "    <tr>\n",
       "      <th>customer_id</th>\n",
       "      <th></th>\n",
       "      <th></th>\n",
       "      <th></th>\n",
       "      <th></th>\n",
       "      <th></th>\n",
       "      <th></th>\n",
       "      <th></th>\n",
       "      <th></th>\n",
       "      <th></th>\n",
       "      <th></th>\n",
       "      <th></th>\n",
       "      <th></th>\n",
       "      <th></th>\n",
       "      <th></th>\n",
       "      <th></th>\n",
       "      <th></th>\n",
       "      <th></th>\n",
       "      <th></th>\n",
       "      <th></th>\n",
       "      <th></th>\n",
       "      <th></th>\n",
       "    </tr>\n",
       "  </thead>\n",
       "  <tbody>\n",
       "    <tr>\n",
       "      <th>CS1112</th>\n",
       "      <td>70.666667</td>\n",
       "      <td>67.400000</td>\n",
       "      <td>70.666667</td>\n",
       "      <td>70.666667</td>\n",
       "      <td>39.000000</td>\n",
       "      <td>3.0</td>\n",
       "      <td>5.0</td>\n",
       "      <td>3.0</td>\n",
       "      <td>3.0</td>\n",
       "      <td>1.0</td>\n",
       "      <td>...</td>\n",
       "      <td>212.0</td>\n",
       "      <td>337.0</td>\n",
       "      <td>212.0</td>\n",
       "      <td>212.0</td>\n",
       "      <td>39.0</td>\n",
       "      <td>485.333333</td>\n",
       "      <td>161.800000</td>\n",
       "      <td>1190.333333</td>\n",
       "      <td>284.333333</td>\n",
       "      <td>0.000000</td>\n",
       "    </tr>\n",
       "    <tr>\n",
       "      <th>CS1113</th>\n",
       "      <td>81.333333</td>\n",
       "      <td>74.800000</td>\n",
       "      <td>85.200000</td>\n",
       "      <td>56.500000</td>\n",
       "      <td>73.333333</td>\n",
       "      <td>3.0</td>\n",
       "      <td>5.0</td>\n",
       "      <td>5.0</td>\n",
       "      <td>4.0</td>\n",
       "      <td>3.0</td>\n",
       "      <td>...</td>\n",
       "      <td>244.0</td>\n",
       "      <td>374.0</td>\n",
       "      <td>426.0</td>\n",
       "      <td>226.0</td>\n",
       "      <td>220.0</td>\n",
       "      <td>444.333333</td>\n",
       "      <td>290.200000</td>\n",
       "      <td>171.200000</td>\n",
       "      <td>781.666667</td>\n",
       "      <td>745.333333</td>\n",
       "    </tr>\n",
       "    <tr>\n",
       "      <th>CS1114</th>\n",
       "      <td>85.200000</td>\n",
       "      <td>75.000000</td>\n",
       "      <td>70.400000</td>\n",
       "      <td>70.833333</td>\n",
       "      <td>79.000000</td>\n",
       "      <td>5.0</td>\n",
       "      <td>2.0</td>\n",
       "      <td>5.0</td>\n",
       "      <td>6.0</td>\n",
       "      <td>1.0</td>\n",
       "      <td>...</td>\n",
       "      <td>426.0</td>\n",
       "      <td>150.0</td>\n",
       "      <td>352.0</td>\n",
       "      <td>425.0</td>\n",
       "      <td>79.0</td>\n",
       "      <td>94.700000</td>\n",
       "      <td>968.000000</td>\n",
       "      <td>619.300000</td>\n",
       "      <td>726.166667</td>\n",
       "      <td>0.000000</td>\n",
       "    </tr>\n",
       "    <tr>\n",
       "      <th>CS1115</th>\n",
       "      <td>87.000000</td>\n",
       "      <td>67.571429</td>\n",
       "      <td>79.571429</td>\n",
       "      <td>78.250000</td>\n",
       "      <td>55.000000</td>\n",
       "      <td>3.0</td>\n",
       "      <td>7.0</td>\n",
       "      <td>7.0</td>\n",
       "      <td>4.0</td>\n",
       "      <td>1.0</td>\n",
       "      <td>...</td>\n",
       "      <td>261.0</td>\n",
       "      <td>473.0</td>\n",
       "      <td>557.0</td>\n",
       "      <td>313.0</td>\n",
       "      <td>55.0</td>\n",
       "      <td>225.000000</td>\n",
       "      <td>477.285714</td>\n",
       "      <td>110.952381</td>\n",
       "      <td>512.250000</td>\n",
       "      <td>0.000000</td>\n",
       "    </tr>\n",
       "    <tr>\n",
       "      <th>CS1116</th>\n",
       "      <td>58.750000</td>\n",
       "      <td>76.666667</td>\n",
       "      <td>59.000000</td>\n",
       "      <td>66.600000</td>\n",
       "      <td>0.000000</td>\n",
       "      <td>4.0</td>\n",
       "      <td>3.0</td>\n",
       "      <td>1.0</td>\n",
       "      <td>5.0</td>\n",
       "      <td>0.0</td>\n",
       "      <td>...</td>\n",
       "      <td>235.0</td>\n",
       "      <td>230.0</td>\n",
       "      <td>59.0</td>\n",
       "      <td>333.0</td>\n",
       "      <td>0.0</td>\n",
       "      <td>449.583333</td>\n",
       "      <td>908.333333</td>\n",
       "      <td>0.000000</td>\n",
       "      <td>636.800000</td>\n",
       "      <td>0.000000</td>\n",
       "    </tr>\n",
       "  </tbody>\n",
       "</table>\n",
       "<p>5 rows × 40 columns</p>\n",
       "</div>"
      ],
      "text/plain": [
       "            ann_txn_amt_ave                                              \\\n",
       "YEAR                   2011       2012       2013       2014       2015   \n",
       "customer_id                                                               \n",
       "CS1112            70.666667  67.400000  70.666667  70.666667  39.000000   \n",
       "CS1113            81.333333  74.800000  85.200000  56.500000  73.333333   \n",
       "CS1114            85.200000  75.000000  70.400000  70.833333  79.000000   \n",
       "CS1115            87.000000  67.571429  79.571429  78.250000  55.000000   \n",
       "CS1116            58.750000  76.666667  59.000000  66.600000   0.000000   \n",
       "\n",
       "            ann_txn_amt_cnt                      ... ann_txn_amt_sum         \\\n",
       "YEAR                   2011 2012 2013 2014 2015  ...            2011   2012   \n",
       "customer_id                                      ...                          \n",
       "CS1112                  3.0  5.0  3.0  3.0  1.0  ...           212.0  337.0   \n",
       "CS1113                  3.0  5.0  5.0  4.0  3.0  ...           244.0  374.0   \n",
       "CS1114                  5.0  2.0  5.0  6.0  1.0  ...           426.0  150.0   \n",
       "CS1115                  3.0  7.0  7.0  4.0  1.0  ...           261.0  473.0   \n",
       "CS1116                  4.0  3.0  1.0  5.0  0.0  ...           235.0  230.0   \n",
       "\n",
       "                                 ann_txn_amt_var                           \\\n",
       "YEAR          2013   2014   2015            2011        2012         2013   \n",
       "customer_id                                                                 \n",
       "CS1112       212.0  212.0   39.0      485.333333  161.800000  1190.333333   \n",
       "CS1113       426.0  226.0  220.0      444.333333  290.200000   171.200000   \n",
       "CS1114       352.0  425.0   79.0       94.700000  968.000000   619.300000   \n",
       "CS1115       557.0  313.0   55.0      225.000000  477.285714   110.952381   \n",
       "CS1116        59.0  333.0    0.0      449.583333  908.333333     0.000000   \n",
       "\n",
       "                                     \n",
       "YEAR               2014        2015  \n",
       "customer_id                          \n",
       "CS1112       284.333333    0.000000  \n",
       "CS1113       781.666667  745.333333  \n",
       "CS1114       726.166667    0.000000  \n",
       "CS1115       512.250000    0.000000  \n",
       "CS1116       636.800000    0.000000  \n",
       "\n",
       "[5 rows x 40 columns]"
      ]
     },
     "execution_count": 18,
     "metadata": {},
     "output_type": "execute_result"
    }
   ],
   "source": [
    "clnt_annual_aggregations_pivot = clnt_annual_aggregations.pivot_table(columns='YEAR',index='customer_id').fillna(0)\n",
    "clnt_annual_aggregations_pivot.head()"
   ]
  },
  {
   "cell_type": "code",
   "execution_count": 19,
   "id": "013d11f6",
   "metadata": {},
   "outputs": [],
   "source": [
    "# There are 5 columns called annual_sum, annual_mean, annual_std, annual_var,\n",
    "# annual_sem, annual_max, annual_min, annual_coun in dataframe of clnt_annual_aggregations.\n",
    "# After pivoting it, 40 columns are shown in clnt_annual_aggregations_pivot.\n",
    "# Since there are 5 years of each aggregated feature / 8 x 5 = 40."
   ]
  },
  {
   "cell_type": "code",
   "execution_count": 20,
   "id": "dcd92c73",
   "metadata": {},
   "outputs": [],
   "source": [
    "# You should expect columns with NaN values. \n",
    "# Impute the NaN entries when you perform the pivot table function and explain your choice of values."
   ]
  },
  {
   "cell_type": "code",
   "execution_count": 21,
   "id": "866566c9",
   "metadata": {},
   "outputs": [],
   "source": [
    "# I replace every Nan entry with 0, which can stand that this customer\n",
    "# does not transact in one particular year."
   ]
  },
  {
   "cell_type": "code",
   "execution_count": 22,
   "id": "c6f30951",
   "metadata": {},
   "outputs": [
    {
     "data": {
      "text/plain": [
       "2"
      ]
     },
     "execution_count": 22,
     "metadata": {},
     "output_type": "execute_result"
    }
   ],
   "source": [
    "clnt_annual_aggregations_pivot.columns.nlevels"
   ]
  },
  {
   "cell_type": "code",
   "execution_count": 23,
   "id": "8fc6dfb3",
   "metadata": {},
   "outputs": [
    {
     "data": {
      "text/plain": [
       "MultiIndex([('ann_txn_amt_ave', 2011),\n",
       "            ('ann_txn_amt_ave', 2012),\n",
       "            ('ann_txn_amt_ave', 2013),\n",
       "            ('ann_txn_amt_ave', 2014),\n",
       "            ('ann_txn_amt_ave', 2015),\n",
       "            ('ann_txn_amt_cnt', 2011),\n",
       "            ('ann_txn_amt_cnt', 2012),\n",
       "            ('ann_txn_amt_cnt', 2013),\n",
       "            ('ann_txn_amt_cnt', 2014),\n",
       "            ('ann_txn_amt_cnt', 2015),\n",
       "            ('ann_txn_amt_max', 2011),\n",
       "            ('ann_txn_amt_max', 2012),\n",
       "            ('ann_txn_amt_max', 2013),\n",
       "            ('ann_txn_amt_max', 2014),\n",
       "            ('ann_txn_amt_max', 2015),\n",
       "            ('ann_txn_amt_min', 2011),\n",
       "            ('ann_txn_amt_min', 2012),\n",
       "            ('ann_txn_amt_min', 2013),\n",
       "            ('ann_txn_amt_min', 2014),\n",
       "            ('ann_txn_amt_min', 2015),\n",
       "            ('ann_txn_amt_sem', 2011),\n",
       "            ('ann_txn_amt_sem', 2012),\n",
       "            ('ann_txn_amt_sem', 2013),\n",
       "            ('ann_txn_amt_sem', 2014),\n",
       "            ('ann_txn_amt_sem', 2015),\n",
       "            ('ann_txn_amt_std', 2011),\n",
       "            ('ann_txn_amt_std', 2012),\n",
       "            ('ann_txn_amt_std', 2013),\n",
       "            ('ann_txn_amt_std', 2014),\n",
       "            ('ann_txn_amt_std', 2015),\n",
       "            ('ann_txn_amt_sum', 2011),\n",
       "            ('ann_txn_amt_sum', 2012),\n",
       "            ('ann_txn_amt_sum', 2013),\n",
       "            ('ann_txn_amt_sum', 2014),\n",
       "            ('ann_txn_amt_sum', 2015),\n",
       "            ('ann_txn_amt_var', 2011),\n",
       "            ('ann_txn_amt_var', 2012),\n",
       "            ('ann_txn_amt_var', 2013),\n",
       "            ('ann_txn_amt_var', 2014),\n",
       "            ('ann_txn_amt_var', 2015)],\n",
       "           names=[None, 'YEAR'])"
      ]
     },
     "execution_count": 23,
     "metadata": {},
     "output_type": "execute_result"
    }
   ],
   "source": [
    "clnt_annual_aggregations_pivot.columns"
   ]
  },
  {
   "cell_type": "code",
   "execution_count": 24,
   "id": "b835134e",
   "metadata": {},
   "outputs": [],
   "source": [
    "# What are your observations regarding the number of levels and the column names?\n",
    "# There are two levels of columns in clnt_annual_aggregations_pivot.\n",
    "# The first column is about 8 aggregation features.\n",
    "# The second column is about 5 years.\n",
    "# The code of column names above shows us that there are 40 permutations of featurs and years.\n",
    "# Every feature name corresponds to 5 different years (5 times).\n",
    "# Help explain why clnt annual aggregations pivot table shown below with 40 columns in q2."
   ]
  },
  {
   "cell_type": "code",
   "execution_count": 25,
   "id": "123e5a55",
   "metadata": {},
   "outputs": [],
   "source": [
    "# 5. Finally, you want to save the dataframe clnt annual aggregations pivot as an.xlsx file \n",
    "# for future use in the machine learning assignment. "
   ]
  },
  {
   "cell_type": "code",
   "execution_count": 26,
   "id": "3dced617",
   "metadata": {},
   "outputs": [],
   "source": [
    "# To do so, you want to remove the two levels in columns and create a single level with column names:\n",
    "# ’ann txn amt ave 2011’, ’ann txn amt ave 2012’, etc. \n",
    "# To do so, use the code snippetbelow prior to saving the dataframe as an Excel file."
   ]
  },
  {
   "cell_type": "code",
   "execution_count": 27,
   "id": "aa65e3ba",
   "metadata": {},
   "outputs": [
    {
     "data": {
      "text/html": [
       "<div>\n",
       "<style scoped>\n",
       "    .dataframe tbody tr th:only-of-type {\n",
       "        vertical-align: middle;\n",
       "    }\n",
       "\n",
       "    .dataframe tbody tr th {\n",
       "        vertical-align: top;\n",
       "    }\n",
       "\n",
       "    .dataframe thead th {\n",
       "        text-align: right;\n",
       "    }\n",
       "</style>\n",
       "<table border=\"1\" class=\"dataframe\">\n",
       "  <thead>\n",
       "    <tr style=\"text-align: right;\">\n",
       "      <th></th>\n",
       "      <th>ann_txn_amt_ave_2011</th>\n",
       "      <th>ann_txn_amt_ave_2012</th>\n",
       "      <th>ann_txn_amt_ave_2013</th>\n",
       "      <th>ann_txn_amt_ave_2014</th>\n",
       "      <th>ann_txn_amt_ave_2015</th>\n",
       "      <th>ann_txn_amt_cnt_2011</th>\n",
       "      <th>ann_txn_amt_cnt_2012</th>\n",
       "      <th>ann_txn_amt_cnt_2013</th>\n",
       "      <th>ann_txn_amt_cnt_2014</th>\n",
       "      <th>ann_txn_amt_cnt_2015</th>\n",
       "      <th>...</th>\n",
       "      <th>ann_txn_amt_sum_2011</th>\n",
       "      <th>ann_txn_amt_sum_2012</th>\n",
       "      <th>ann_txn_amt_sum_2013</th>\n",
       "      <th>ann_txn_amt_sum_2014</th>\n",
       "      <th>ann_txn_amt_sum_2015</th>\n",
       "      <th>ann_txn_amt_var_2011</th>\n",
       "      <th>ann_txn_amt_var_2012</th>\n",
       "      <th>ann_txn_amt_var_2013</th>\n",
       "      <th>ann_txn_amt_var_2014</th>\n",
       "      <th>ann_txn_amt_var_2015</th>\n",
       "    </tr>\n",
       "    <tr>\n",
       "      <th>customer_id</th>\n",
       "      <th></th>\n",
       "      <th></th>\n",
       "      <th></th>\n",
       "      <th></th>\n",
       "      <th></th>\n",
       "      <th></th>\n",
       "      <th></th>\n",
       "      <th></th>\n",
       "      <th></th>\n",
       "      <th></th>\n",
       "      <th></th>\n",
       "      <th></th>\n",
       "      <th></th>\n",
       "      <th></th>\n",
       "      <th></th>\n",
       "      <th></th>\n",
       "      <th></th>\n",
       "      <th></th>\n",
       "      <th></th>\n",
       "      <th></th>\n",
       "      <th></th>\n",
       "    </tr>\n",
       "  </thead>\n",
       "  <tbody>\n",
       "    <tr>\n",
       "      <th>CS1112</th>\n",
       "      <td>70.666667</td>\n",
       "      <td>67.400000</td>\n",
       "      <td>70.666667</td>\n",
       "      <td>70.666667</td>\n",
       "      <td>39.000000</td>\n",
       "      <td>3.0</td>\n",
       "      <td>5.0</td>\n",
       "      <td>3.0</td>\n",
       "      <td>3.0</td>\n",
       "      <td>1.0</td>\n",
       "      <td>...</td>\n",
       "      <td>212.0</td>\n",
       "      <td>337.0</td>\n",
       "      <td>212.0</td>\n",
       "      <td>212.0</td>\n",
       "      <td>39.0</td>\n",
       "      <td>485.333333</td>\n",
       "      <td>161.800000</td>\n",
       "      <td>1190.333333</td>\n",
       "      <td>284.333333</td>\n",
       "      <td>0.000000</td>\n",
       "    </tr>\n",
       "    <tr>\n",
       "      <th>CS1113</th>\n",
       "      <td>81.333333</td>\n",
       "      <td>74.800000</td>\n",
       "      <td>85.200000</td>\n",
       "      <td>56.500000</td>\n",
       "      <td>73.333333</td>\n",
       "      <td>3.0</td>\n",
       "      <td>5.0</td>\n",
       "      <td>5.0</td>\n",
       "      <td>4.0</td>\n",
       "      <td>3.0</td>\n",
       "      <td>...</td>\n",
       "      <td>244.0</td>\n",
       "      <td>374.0</td>\n",
       "      <td>426.0</td>\n",
       "      <td>226.0</td>\n",
       "      <td>220.0</td>\n",
       "      <td>444.333333</td>\n",
       "      <td>290.200000</td>\n",
       "      <td>171.200000</td>\n",
       "      <td>781.666667</td>\n",
       "      <td>745.333333</td>\n",
       "    </tr>\n",
       "    <tr>\n",
       "      <th>CS1114</th>\n",
       "      <td>85.200000</td>\n",
       "      <td>75.000000</td>\n",
       "      <td>70.400000</td>\n",
       "      <td>70.833333</td>\n",
       "      <td>79.000000</td>\n",
       "      <td>5.0</td>\n",
       "      <td>2.0</td>\n",
       "      <td>5.0</td>\n",
       "      <td>6.0</td>\n",
       "      <td>1.0</td>\n",
       "      <td>...</td>\n",
       "      <td>426.0</td>\n",
       "      <td>150.0</td>\n",
       "      <td>352.0</td>\n",
       "      <td>425.0</td>\n",
       "      <td>79.0</td>\n",
       "      <td>94.700000</td>\n",
       "      <td>968.000000</td>\n",
       "      <td>619.300000</td>\n",
       "      <td>726.166667</td>\n",
       "      <td>0.000000</td>\n",
       "    </tr>\n",
       "    <tr>\n",
       "      <th>CS1115</th>\n",
       "      <td>87.000000</td>\n",
       "      <td>67.571429</td>\n",
       "      <td>79.571429</td>\n",
       "      <td>78.250000</td>\n",
       "      <td>55.000000</td>\n",
       "      <td>3.0</td>\n",
       "      <td>7.0</td>\n",
       "      <td>7.0</td>\n",
       "      <td>4.0</td>\n",
       "      <td>1.0</td>\n",
       "      <td>...</td>\n",
       "      <td>261.0</td>\n",
       "      <td>473.0</td>\n",
       "      <td>557.0</td>\n",
       "      <td>313.0</td>\n",
       "      <td>55.0</td>\n",
       "      <td>225.000000</td>\n",
       "      <td>477.285714</td>\n",
       "      <td>110.952381</td>\n",
       "      <td>512.250000</td>\n",
       "      <td>0.000000</td>\n",
       "    </tr>\n",
       "    <tr>\n",
       "      <th>CS1116</th>\n",
       "      <td>58.750000</td>\n",
       "      <td>76.666667</td>\n",
       "      <td>59.000000</td>\n",
       "      <td>66.600000</td>\n",
       "      <td>0.000000</td>\n",
       "      <td>4.0</td>\n",
       "      <td>3.0</td>\n",
       "      <td>1.0</td>\n",
       "      <td>5.0</td>\n",
       "      <td>0.0</td>\n",
       "      <td>...</td>\n",
       "      <td>235.0</td>\n",
       "      <td>230.0</td>\n",
       "      <td>59.0</td>\n",
       "      <td>333.0</td>\n",
       "      <td>0.0</td>\n",
       "      <td>449.583333</td>\n",
       "      <td>908.333333</td>\n",
       "      <td>0.000000</td>\n",
       "      <td>636.800000</td>\n",
       "      <td>0.000000</td>\n",
       "    </tr>\n",
       "  </tbody>\n",
       "</table>\n",
       "<p>5 rows × 40 columns</p>\n",
       "</div>"
      ],
      "text/plain": [
       "             ann_txn_amt_ave_2011  ann_txn_amt_ave_2012  ann_txn_amt_ave_2013  \\\n",
       "customer_id                                                                     \n",
       "CS1112                  70.666667             67.400000             70.666667   \n",
       "CS1113                  81.333333             74.800000             85.200000   \n",
       "CS1114                  85.200000             75.000000             70.400000   \n",
       "CS1115                  87.000000             67.571429             79.571429   \n",
       "CS1116                  58.750000             76.666667             59.000000   \n",
       "\n",
       "             ann_txn_amt_ave_2014  ann_txn_amt_ave_2015  ann_txn_amt_cnt_2011  \\\n",
       "customer_id                                                                     \n",
       "CS1112                  70.666667             39.000000                   3.0   \n",
       "CS1113                  56.500000             73.333333                   3.0   \n",
       "CS1114                  70.833333             79.000000                   5.0   \n",
       "CS1115                  78.250000             55.000000                   3.0   \n",
       "CS1116                  66.600000              0.000000                   4.0   \n",
       "\n",
       "             ann_txn_amt_cnt_2012  ann_txn_amt_cnt_2013  ann_txn_amt_cnt_2014  \\\n",
       "customer_id                                                                     \n",
       "CS1112                        5.0                   3.0                   3.0   \n",
       "CS1113                        5.0                   5.0                   4.0   \n",
       "CS1114                        2.0                   5.0                   6.0   \n",
       "CS1115                        7.0                   7.0                   4.0   \n",
       "CS1116                        3.0                   1.0                   5.0   \n",
       "\n",
       "             ann_txn_amt_cnt_2015  ...  ann_txn_amt_sum_2011  \\\n",
       "customer_id                        ...                         \n",
       "CS1112                        1.0  ...                 212.0   \n",
       "CS1113                        3.0  ...                 244.0   \n",
       "CS1114                        1.0  ...                 426.0   \n",
       "CS1115                        1.0  ...                 261.0   \n",
       "CS1116                        0.0  ...                 235.0   \n",
       "\n",
       "             ann_txn_amt_sum_2012  ann_txn_amt_sum_2013  ann_txn_amt_sum_2014  \\\n",
       "customer_id                                                                     \n",
       "CS1112                      337.0                 212.0                 212.0   \n",
       "CS1113                      374.0                 426.0                 226.0   \n",
       "CS1114                      150.0                 352.0                 425.0   \n",
       "CS1115                      473.0                 557.0                 313.0   \n",
       "CS1116                      230.0                  59.0                 333.0   \n",
       "\n",
       "             ann_txn_amt_sum_2015  ann_txn_amt_var_2011  ann_txn_amt_var_2012  \\\n",
       "customer_id                                                                     \n",
       "CS1112                       39.0            485.333333            161.800000   \n",
       "CS1113                      220.0            444.333333            290.200000   \n",
       "CS1114                       79.0             94.700000            968.000000   \n",
       "CS1115                       55.0            225.000000            477.285714   \n",
       "CS1116                        0.0            449.583333            908.333333   \n",
       "\n",
       "             ann_txn_amt_var_2013  ann_txn_amt_var_2014  ann_txn_amt_var_2015  \n",
       "customer_id                                                                    \n",
       "CS1112                1190.333333            284.333333              0.000000  \n",
       "CS1113                 171.200000            781.666667            745.333333  \n",
       "CS1114                 619.300000            726.166667              0.000000  \n",
       "CS1115                 110.952381            512.250000              0.000000  \n",
       "CS1116                   0.000000            636.800000              0.000000  \n",
       "\n",
       "[5 rows x 40 columns]"
      ]
     },
     "execution_count": 27,
     "metadata": {},
     "output_type": "execute_result"
    }
   ],
   "source": [
    "level_0 = clnt_annual_aggregations_pivot.columns.get_level_values(0).astype(str)\n",
    "level_1 = clnt_annual_aggregations_pivot.columns.get_level_values(1).astype(str)\n",
    "clnt_annual_aggregations_pivot.columns = level_0 + '_' + level_1\n",
    "clnt_annual_aggregations_pivot.head()"
   ]
  },
  {
   "cell_type": "code",
   "execution_count": 28,
   "id": "c2e3c9a5",
   "metadata": {},
   "outputs": [],
   "source": [
    "# Describe what each line of code in the box does"
   ]
  },
  {
   "cell_type": "code",
   "execution_count": 29,
   "id": "e6265afd",
   "metadata": {},
   "outputs": [],
   "source": [
    "# level_0 = clnt_annual_aggregations_pivot.columns.get_level_values(0).astype(str):\n",
    "# Extract the first level of columns: feature names,such as ann_txn_amt_ave, ann_txn_amt_cnt.\n",
    "# level_1 = clnt_annual_aggregations_pivot.columns.get_level_values(1).astype(str):\n",
    "# Extract the second level of columns: years, such as 2011, 2012."
   ]
  },
  {
   "cell_type": "code",
   "execution_count": 30,
   "id": "d5f9d84a",
   "metadata": {},
   "outputs": [],
   "source": [
    "# Save the output dataframe as an Excel file annual features.xlsx."
   ]
  },
  {
   "cell_type": "code",
   "execution_count": 31,
   "id": "03fe5c91",
   "metadata": {},
   "outputs": [],
   "source": [
    "clnt_annual_aggregations_pivot.to_excel(\"annual_features.xlsx\")"
   ]
  },
  {
   "cell_type": "code",
   "execution_count": 32,
   "id": "daf2714f",
   "metadata": {},
   "outputs": [],
   "source": [
    "# 6. What are the possible disadvantages in capturing client transaction behavior with the\n",
    "# annual features described in this section (if any)?"
   ]
  },
  {
   "cell_type": "code",
   "execution_count": 33,
   "id": "08972b8d",
   "metadata": {},
   "outputs": [],
   "source": [
    "# I think that method annual data is too simple, which may lose some information.\n",
    "# For example, customer A might has lots of transactions in some pariticular month or quarter.\n",
    "# To be more specific, we can build a dataframe with feature names and months."
   ]
  },
  {
   "cell_type": "code",
   "execution_count": 34,
   "id": "b3265975",
   "metadata": {},
   "outputs": [],
   "source": [
    "# 1.3 Create monthly aggregations"
   ]
  },
  {
   "cell_type": "code",
   "execution_count": 35,
   "id": "724541ef",
   "metadata": {},
   "outputs": [],
   "source": [
    "# 1. Create the dataframe that captures the monthly sum and count of transactions per client\n",
    "# (name it clnt monthly aggregations). \n",
    "# Use the groupby function with the Named Aggregation feature "
   ]
  },
  {
   "cell_type": "code",
   "execution_count": 36,
   "id": "26c712ba",
   "metadata": {},
   "outputs": [
    {
     "data": {
      "text/html": [
       "<div>\n",
       "<style scoped>\n",
       "    .dataframe tbody tr th:only-of-type {\n",
       "        vertical-align: middle;\n",
       "    }\n",
       "\n",
       "    .dataframe tbody tr th {\n",
       "        vertical-align: top;\n",
       "    }\n",
       "\n",
       "    .dataframe thead th {\n",
       "        text-align: right;\n",
       "    }\n",
       "</style>\n",
       "<table border=\"1\" class=\"dataframe\">\n",
       "  <thead>\n",
       "    <tr style=\"text-align: right;\">\n",
       "      <th></th>\n",
       "      <th></th>\n",
       "      <th>mth_txn_amt_sum</th>\n",
       "      <th>mth_txn_cnt</th>\n",
       "    </tr>\n",
       "    <tr>\n",
       "      <th>customer_id</th>\n",
       "      <th>ME_DT</th>\n",
       "      <th></th>\n",
       "      <th></th>\n",
       "    </tr>\n",
       "  </thead>\n",
       "  <tbody>\n",
       "    <tr>\n",
       "      <th rowspan=\"5\" valign=\"top\">CS1112</th>\n",
       "      <th>2011-06-30</th>\n",
       "      <td>56</td>\n",
       "      <td>1</td>\n",
       "    </tr>\n",
       "    <tr>\n",
       "      <th>2011-08-31</th>\n",
       "      <td>96</td>\n",
       "      <td>1</td>\n",
       "    </tr>\n",
       "    <tr>\n",
       "      <th>2011-10-31</th>\n",
       "      <td>60</td>\n",
       "      <td>1</td>\n",
       "    </tr>\n",
       "    <tr>\n",
       "      <th>2012-04-30</th>\n",
       "      <td>56</td>\n",
       "      <td>1</td>\n",
       "    </tr>\n",
       "    <tr>\n",
       "      <th>2012-06-30</th>\n",
       "      <td>52</td>\n",
       "      <td>1</td>\n",
       "    </tr>\n",
       "  </tbody>\n",
       "</table>\n",
       "</div>"
      ],
      "text/plain": [
       "                        mth_txn_amt_sum  mth_txn_cnt\n",
       "customer_id ME_DT                                   \n",
       "CS1112      2011-06-30               56            1\n",
       "            2011-08-31               96            1\n",
       "            2011-10-31               60            1\n",
       "            2012-04-30               56            1\n",
       "            2012-06-30               52            1"
      ]
     },
     "execution_count": 36,
     "metadata": {},
     "output_type": "execute_result"
    }
   ],
   "source": [
    "clnt_monthly_aggregations = txn.groupby([\"customer_id\",'ME_DT']).agg(mth_txn_amt_sum = pd.NamedAgg('tran_amount','sum'),\n",
    "                                                                     mth_txn_cnt = pd.NamedAgg('tran_amount','count'))\n",
    "clnt_monthly_aggregations.head()"
   ]
  },
  {
   "cell_type": "code",
   "execution_count": 37,
   "id": "952dbc3d",
   "metadata": {},
   "outputs": [],
   "source": [
    "# 2. Create a histogram of both columns you created. "
   ]
  },
  {
   "cell_type": "code",
   "execution_count": 38,
   "id": "cb6216b2",
   "metadata": {},
   "outputs": [
    {
     "data": {
      "image/png": "[encoded data removed]",
      "text/plain": [
       "<Figure size 432x288 with 1 Axes>"
      ]
     },
     "metadata": {
      "needs_background": "light"
     },
     "output_type": "display_data"
    }
   ],
   "source": [
    "plt.hist(clnt_monthly_aggregations['mth_txn_amt_sum'])\n",
    "plt.title(\"Histogram of Sum\")\n",
    "plt.show()"
   ]
  },
  {
   "cell_type": "code",
   "execution_count": 39,
   "id": "58f427cb",
   "metadata": {},
   "outputs": [
    {
     "data": {
      "image/png": "[encoded data removed]",
      "text/plain": [
       "<Figure size 432x288 with 1 Axes>"
      ]
     },
     "metadata": {
      "needs_background": "light"
     },
     "output_type": "display_data"
    }
   ],
   "source": [
    "plt.hist(clnt_monthly_aggregations['mth_txn_cnt'])\n",
    "plt.title(\"Histogram of Count\")\n",
    "plt.show()"
   ]
  },
  {
   "cell_type": "code",
   "execution_count": 40,
   "id": "7aa58dac",
   "metadata": {},
   "outputs": [],
   "source": [
    "# What are your observations? "
   ]
  },
  {
   "cell_type": "code",
   "execution_count": 41,
   "id": "4f77e137",
   "metadata": {},
   "outputs": [],
   "source": [
    "# Histogram of Sum:\n",
    "# Most sum value monthly is less than $100.\n",
    "# Histogram of Count:\n",
    "# Most count value monthly is 1.\n",
    "# Most people transact one time with less than $100 monthly."
   ]
  },
  {
   "cell_type": "code",
   "execution_count": 42,
   "id": "fdac68d5",
   "metadata": {},
   "outputs": [],
   "source": [
    "# What are the most common and maximum values for each column?"
   ]
  },
  {
   "cell_type": "code",
   "execution_count": 46,
   "id": "988517d1",
   "metadata": {},
   "outputs": [
    {
     "data": {
      "text/plain": [
       "77"
      ]
     },
     "execution_count": 46,
     "metadata": {},
     "output_type": "execute_result"
    }
   ],
   "source": [
    "clnt_monthly_aggregations['mth_txn_amt_sum'].mode()[0]\n",
    "# The most common for sum is $77 monthly"
   ]
  },
  {
   "cell_type": "code",
   "execution_count": 47,
   "id": "529029dd",
   "metadata": {},
   "outputs": [
    {
     "data": {
      "text/plain": [
       "460"
      ]
     },
     "execution_count": 47,
     "metadata": {},
     "output_type": "execute_result"
    }
   ],
   "source": [
    "clnt_monthly_aggregations['mth_txn_amt_sum'].max()\n",
    "# The max value for sum is 460 monthly"
   ]
  },
  {
   "cell_type": "code",
   "execution_count": 48,
   "id": "a7014cfc",
   "metadata": {},
   "outputs": [
    {
     "data": {
      "text/plain": [
       "1"
      ]
     },
     "execution_count": 48,
     "metadata": {},
     "output_type": "execute_result"
    }
   ],
   "source": [
    "clnt_monthly_aggregations['mth_txn_cnt'].mode()[0]\n",
    "# The most common for count is 1 monthly"
   ]
  },
  {
   "cell_type": "code",
   "execution_count": 49,
   "id": "ff49d15b",
   "metadata": {},
   "outputs": [
    {
     "data": {
      "text/plain": [
       "6"
      ]
     },
     "execution_count": 49,
     "metadata": {},
     "output_type": "execute_result"
    }
   ],
   "source": [
    "clnt_monthly_aggregations['mth_txn_cnt'].max()\n",
    "# The max value for count is 6 monthly"
   ]
  },
  {
   "cell_type": "code",
   "execution_count": 50,
   "id": "a0ac4af8",
   "metadata": {},
   "outputs": [],
   "source": [
    "# How do they compare with the one in section 1.2?"
   ]
  },
  {
   "cell_type": "code",
   "execution_count": 51,
   "id": "4adaac51",
   "metadata": {},
   "outputs": [
    {
     "data": {
      "text/plain": [
       "97"
      ]
     },
     "execution_count": 51,
     "metadata": {},
     "output_type": "execute_result"
    }
   ],
   "source": [
    "clnt_annual_aggregations['ann_txn_amt_sum'].mode()[0]\n",
    "# The most common for sum is $97 yearly"
   ]
  },
  {
   "cell_type": "code",
   "execution_count": 52,
   "id": "1fe1cb94",
   "metadata": {},
   "outputs": [
    {
     "data": {
      "text/plain": [
       "1317"
      ]
     },
     "execution_count": 52,
     "metadata": {},
     "output_type": "execute_result"
    }
   ],
   "source": [
    "clnt_annual_aggregations['ann_txn_amt_sum'].max()\n",
    "# The max value for sum is $1317 yearly"
   ]
  },
  {
   "cell_type": "code",
   "execution_count": 53,
   "id": "07b021f1",
   "metadata": {},
   "outputs": [
    {
     "data": {
      "text/plain": [
       "3"
      ]
     },
     "execution_count": 53,
     "metadata": {},
     "output_type": "execute_result"
    }
   ],
   "source": [
    "clnt_annual_aggregations['ann_txn_amt_cnt'].mode()[0]\n",
    "# The most common for count is 3 yearly"
   ]
  },
  {
   "cell_type": "code",
   "execution_count": 54,
   "id": "c64d2b78",
   "metadata": {},
   "outputs": [
    {
     "data": {
      "text/plain": [
       "18"
      ]
     },
     "execution_count": 54,
     "metadata": {},
     "output_type": "execute_result"
    }
   ],
   "source": [
    "clnt_annual_aggregations['ann_txn_amt_cnt'].max()\n",
    "# The max value for count is 18 yearly"
   ]
  },
  {
   "cell_type": "code",
   "execution_count": 55,
   "id": "58630916",
   "metadata": {},
   "outputs": [],
   "source": [
    "# What we get from section 2 is more general, since the data covers the whole year.\n",
    "# I can read more information specific from section 1.3 than 1.2"
   ]
  },
  {
   "cell_type": "code",
   "execution_count": 56,
   "id": "3495f6a1",
   "metadata": {},
   "outputs": [],
   "source": [
    "# 1.4 Create the base table for the rolling window features"
   ]
  },
  {
   "cell_type": "code",
   "execution_count": 57,
   "id": "ccd0c2b6",
   "metadata": {},
   "outputs": [],
   "source": [
    "# 1. Create the numpy array of the unique elements in columns ’customer id’ and ’ME_DT’\n",
    "# of the txn table you created in section 1.1. \n",
    "# Confirm that you have 6,889 unique clients and 47 unique month-end-dates."
   ]
  },
  {
   "cell_type": "code",
   "execution_count": 58,
   "id": "ddbc4e79",
   "metadata": {},
   "outputs": [
    {
     "data": {
      "text/plain": [
       "6889"
      ]
     },
     "execution_count": 58,
     "metadata": {},
     "output_type": "execute_result"
    }
   ],
   "source": [
    "clnt_no = txn['customer_id'].unique()\n",
    "len(clnt_no )"
   ]
  },
  {
   "cell_type": "code",
   "execution_count": 59,
   "id": "960e4f7e",
   "metadata": {},
   "outputs": [
    {
     "data": {
      "text/plain": [
       "47"
      ]
     },
     "execution_count": 59,
     "metadata": {},
     "output_type": "execute_result"
    }
   ],
   "source": [
    "me_dt = txn['ME_DT'].unique()\n",
    "len(me_dt)"
   ]
  },
  {
   "cell_type": "code",
   "execution_count": 60,
   "id": "b766056f",
   "metadata": {},
   "outputs": [],
   "source": [
    "# Use itertools.product to generate all the possible combinations of ’customer id’ and ’ME DT’. "
   ]
  },
  {
   "cell_type": "code",
   "execution_count": 62,
   "id": "934dd037",
   "metadata": {},
   "outputs": [],
   "source": [
    "from itertools import product\n",
    "base_table = product(clnt_no , me_dt)"
   ]
  },
  {
   "cell_type": "code",
   "execution_count": 63,
   "id": "b178956e",
   "metadata": {},
   "outputs": [],
   "source": [
    "# 3. Next, you want to convert the itertools.product object base table into a pandas \n",
    "# object called base_table_pd.\n",
    "# To do so, use pd.DataFrame.from records and name the columns ’CLNT NO’ and ’ME DT’."
   ]
  },
  {
   "cell_type": "code",
   "execution_count": 64,
   "id": "ce112321",
   "metadata": {},
   "outputs": [],
   "source": [
    "base_table_pd = pd.DataFrame.from_records(base_table,columns = ['CLNT_NO', 'ME_DT'])"
   ]
  },
  {
   "cell_type": "code",
   "execution_count": 61,
   "id": "9a910999",
   "metadata": {},
   "outputs": [],
   "source": [
    "# 4"
   ]
  },
  {
   "cell_type": "code",
   "execution_count": 62,
   "id": "4d90d538",
   "metadata": {},
   "outputs": [],
   "source": [
    "# Filter client CS1112 and confirm that the dates fall between the min and max\n",
    "# month-dates you identified in section 1.1"
   ]
  },
  {
   "cell_type": "code",
   "execution_count": 65,
   "id": "c3edc375",
   "metadata": {},
   "outputs": [
    {
     "data": {
      "text/plain": [
       "Timestamp('2011-05-31 00:00:00')"
      ]
     },
     "execution_count": 65,
     "metadata": {},
     "output_type": "execute_result"
    }
   ],
   "source": [
    "base_table_pd[base_table_pd['CLNT_NO'] == 'CS1112']['ME_DT'].min()"
   ]
  },
  {
   "cell_type": "code",
   "execution_count": 66,
   "id": "101d7561",
   "metadata": {},
   "outputs": [
    {
     "data": {
      "text/plain": [
       "Timestamp('2015-03-31 00:00:00')"
      ]
     },
     "execution_count": 66,
     "metadata": {},
     "output_type": "execute_result"
    }
   ],
   "source": [
    "base_table_pd[base_table_pd['CLNT_NO'] == 'CS1112']['ME_DT'].max()"
   ]
  },
  {
   "cell_type": "code",
   "execution_count": 67,
   "id": "ad854afa",
   "metadata": {},
   "outputs": [],
   "source": [
    "# confirm that the snapshot of client CS1112 has 47 rows, \n",
    "# one for each month in the dataset."
   ]
  },
  {
   "cell_type": "code",
   "execution_count": 68,
   "id": "81102a73",
   "metadata": {},
   "outputs": [
    {
     "data": {
      "text/plain": [
       "47"
      ]
     },
     "execution_count": 68,
     "metadata": {},
     "output_type": "execute_result"
    }
   ],
   "source": [
    "len(base_table_pd[base_table_pd['CLNT_NO'] == 'CS1112'])\n",
    "# 47 rows"
   ]
  },
  {
   "cell_type": "code",
   "execution_count": 69,
   "id": "80160359",
   "metadata": {},
   "outputs": [],
   "source": [
    "# Confirm that the base table pd has 323,783 rows, \n",
    "# which is the expected value of combinations for 6,889 unique clients \n",
    "# and 47 unique month-end dates."
   ]
  },
  {
   "cell_type": "code",
   "execution_count": 70,
   "id": "0551735b",
   "metadata": {},
   "outputs": [
    {
     "data": {
      "text/plain": [
       "323783"
      ]
     },
     "execution_count": 70,
     "metadata": {},
     "output_type": "execute_result"
    }
   ],
   "source": [
    "base_table_pd.shape[0]\n",
    "# 323,783 rows\n",
    "# 6889 x 47 = 323783"
   ]
  },
  {
   "cell_type": "code",
   "execution_count": 71,
   "id": "8182852c",
   "metadata": {},
   "outputs": [
    {
     "name": "stdout",
     "output_type": "stream",
     "text": [
      "6889\n",
      "47\n"
     ]
    }
   ],
   "source": [
    "print(base_table_pd['CLNT_NO'].nunique())\n",
    "print(base_table_pd['ME_DT'].nunique())"
   ]
  },
  {
   "cell_type": "code",
   "execution_count": 72,
   "id": "7aca122a",
   "metadata": {},
   "outputs": [],
   "source": [
    "# 1.5 Create the monthly rolling window features"
   ]
  },
  {
   "cell_type": "code",
   "execution_count": 73,
   "id": "6218ac80",
   "metadata": {},
   "outputs": [],
   "source": [
    "# 1. Left-join the base table pd with the clnt monthly aggregations table from section 1.3 \n",
    "# on [CLNT NO, ME DT] to create the table base clnt mth."
   ]
  },
  {
   "cell_type": "code",
   "execution_count": 74,
   "id": "77f3ed5e",
   "metadata": {},
   "outputs": [
    {
     "data": {
      "text/html": [
       "<div>\n",
       "<style scoped>\n",
       "    .dataframe tbody tr th:only-of-type {\n",
       "        vertical-align: middle;\n",
       "    }\n",
       "\n",
       "    .dataframe tbody tr th {\n",
       "        vertical-align: top;\n",
       "    }\n",
       "\n",
       "    .dataframe thead th {\n",
       "        text-align: right;\n",
       "    }\n",
       "</style>\n",
       "<table border=\"1\" class=\"dataframe\">\n",
       "  <thead>\n",
       "    <tr style=\"text-align: right;\">\n",
       "      <th></th>\n",
       "      <th>CLNT_NO</th>\n",
       "      <th>ME_DT</th>\n",
       "      <th>mth_txn_amt_sum</th>\n",
       "      <th>mth_txn_cnt</th>\n",
       "    </tr>\n",
       "  </thead>\n",
       "  <tbody>\n",
       "    <tr>\n",
       "      <th>0</th>\n",
       "      <td>CS5295</td>\n",
       "      <td>2013-02-28</td>\n",
       "      <td>35.0</td>\n",
       "      <td>1.0</td>\n",
       "    </tr>\n",
       "    <tr>\n",
       "      <th>1</th>\n",
       "      <td>CS5295</td>\n",
       "      <td>2015-03-31</td>\n",
       "      <td>NaN</td>\n",
       "      <td>NaN</td>\n",
       "    </tr>\n",
       "    <tr>\n",
       "      <th>2</th>\n",
       "      <td>CS5295</td>\n",
       "      <td>2011-11-30</td>\n",
       "      <td>132.0</td>\n",
       "      <td>2.0</td>\n",
       "    </tr>\n",
       "    <tr>\n",
       "      <th>3</th>\n",
       "      <td>CS5295</td>\n",
       "      <td>2013-11-30</td>\n",
       "      <td>NaN</td>\n",
       "      <td>NaN</td>\n",
       "    </tr>\n",
       "    <tr>\n",
       "      <th>4</th>\n",
       "      <td>CS5295</td>\n",
       "      <td>2014-03-31</td>\n",
       "      <td>NaN</td>\n",
       "      <td>NaN</td>\n",
       "    </tr>\n",
       "  </tbody>\n",
       "</table>\n",
       "</div>"
      ],
      "text/plain": [
       "  CLNT_NO      ME_DT  mth_txn_amt_sum  mth_txn_cnt\n",
       "0  CS5295 2013-02-28             35.0          1.0\n",
       "1  CS5295 2015-03-31              NaN          NaN\n",
       "2  CS5295 2011-11-30            132.0          2.0\n",
       "3  CS5295 2013-11-30              NaN          NaN\n",
       "4  CS5295 2014-03-31              NaN          NaN"
      ]
     },
     "execution_count": 74,
     "metadata": {},
     "output_type": "execute_result"
    }
   ],
   "source": [
    "clnt_monthly_aggregations.index.set_names(['CLNT_NO','ME_DT'])\n",
    "base_clnt_mth = base_table_pd.join(clnt_monthly_aggregations, on = ['CLNT_NO', 'ME_DT'], how = 'left')\n",
    "base_clnt_mth.head()"
   ]
  },
  {
   "cell_type": "code",
   "execution_count": 75,
   "id": "3b82c55f",
   "metadata": {},
   "outputs": [],
   "source": [
    "# Why do some rows have NaN values?\n",
    "# In dataset 'txn', it records clients have transactions on particular date.\n",
    "# After doing product of clnt_no , me_dt, there are 323783.\n",
    "# Not every client transacts in every data recorded on me_dt / date."
   ]
  },
  {
   "cell_type": "code",
   "execution_count": 76,
   "id": "cedf1ea6",
   "metadata": {},
   "outputs": [],
   "source": [
    "# What values will you choose to impute NaN values in the sum and count columns?\n",
    "# Perform the imputation you suggest."
   ]
  },
  {
   "cell_type": "code",
   "execution_count": 77,
   "id": "db30f697",
   "metadata": {},
   "outputs": [
    {
     "data": {
      "text/html": [
       "<div>\n",
       "<style scoped>\n",
       "    .dataframe tbody tr th:only-of-type {\n",
       "        vertical-align: middle;\n",
       "    }\n",
       "\n",
       "    .dataframe tbody tr th {\n",
       "        vertical-align: top;\n",
       "    }\n",
       "\n",
       "    .dataframe thead th {\n",
       "        text-align: right;\n",
       "    }\n",
       "</style>\n",
       "<table border=\"1\" class=\"dataframe\">\n",
       "  <thead>\n",
       "    <tr style=\"text-align: right;\">\n",
       "      <th></th>\n",
       "      <th>CLNT_NO</th>\n",
       "      <th>ME_DT</th>\n",
       "      <th>mth_txn_amt_sum</th>\n",
       "      <th>mth_txn_cnt</th>\n",
       "    </tr>\n",
       "  </thead>\n",
       "  <tbody>\n",
       "    <tr>\n",
       "      <th>0</th>\n",
       "      <td>CS5295</td>\n",
       "      <td>2013-02-28</td>\n",
       "      <td>35.0</td>\n",
       "      <td>1.0</td>\n",
       "    </tr>\n",
       "    <tr>\n",
       "      <th>1</th>\n",
       "      <td>CS5295</td>\n",
       "      <td>2015-03-31</td>\n",
       "      <td>0.0</td>\n",
       "      <td>0.0</td>\n",
       "    </tr>\n",
       "    <tr>\n",
       "      <th>2</th>\n",
       "      <td>CS5295</td>\n",
       "      <td>2011-11-30</td>\n",
       "      <td>132.0</td>\n",
       "      <td>2.0</td>\n",
       "    </tr>\n",
       "    <tr>\n",
       "      <th>3</th>\n",
       "      <td>CS5295</td>\n",
       "      <td>2013-11-30</td>\n",
       "      <td>0.0</td>\n",
       "      <td>0.0</td>\n",
       "    </tr>\n",
       "    <tr>\n",
       "      <th>4</th>\n",
       "      <td>CS5295</td>\n",
       "      <td>2014-03-31</td>\n",
       "      <td>0.0</td>\n",
       "      <td>0.0</td>\n",
       "    </tr>\n",
       "  </tbody>\n",
       "</table>\n",
       "</div>"
      ],
      "text/plain": [
       "  CLNT_NO      ME_DT  mth_txn_amt_sum  mth_txn_cnt\n",
       "0  CS5295 2013-02-28             35.0          1.0\n",
       "1  CS5295 2015-03-31              0.0          0.0\n",
       "2  CS5295 2011-11-30            132.0          2.0\n",
       "3  CS5295 2013-11-30              0.0          0.0\n",
       "4  CS5295 2014-03-31              0.0          0.0"
      ]
     },
     "execution_count": 77,
     "metadata": {},
     "output_type": "execute_result"
    }
   ],
   "source": [
    "base_clnt_mth = base_clnt_mth.fillna(0)\n",
    "base_clnt_mth.head()\n",
    "# I impute NaN with 0, since this client does not transcat on the data."
   ]
  },
  {
   "cell_type": "code",
   "execution_count": 78,
   "id": "e62ce518",
   "metadata": {},
   "outputs": [],
   "source": [
    "# Confirm that the number of rows is what you expect. What is the value?"
   ]
  },
  {
   "cell_type": "code",
   "execution_count": 79,
   "id": "2e48e286",
   "metadata": {},
   "outputs": [
    {
     "data": {
      "text/plain": [
       "323783"
      ]
     },
     "execution_count": 79,
     "metadata": {},
     "output_type": "execute_result"
    }
   ],
   "source": [
    "base_clnt_mth.shape[0]\n",
    "# There are 323783 rows"
   ]
  },
  {
   "cell_type": "code",
   "execution_count": 80,
   "id": "38076c44",
   "metadata": {},
   "outputs": [],
   "source": [
    "# How are tables base_clnt_mth and clnt_monthly_aggregations different? \n",
    "# Comment on the number of rows and the content of each table."
   ]
  },
  {
   "cell_type": "code",
   "execution_count": 81,
   "id": "0a1d60d4",
   "metadata": {},
   "outputs": [],
   "source": [
    "# base_clnt_mth has 323783 rows with some 0, since we product clnt_no and me_dt.\n",
    "# Not every client transacts in every data recorded on me_dt / date."
   ]
  },
  {
   "cell_type": "code",
   "execution_count": 82,
   "id": "ccc8eecf",
   "metadata": {},
   "outputs": [
    {
     "data": {
      "text/plain": [
       "103234"
      ]
     },
     "execution_count": 82,
     "metadata": {},
     "output_type": "execute_result"
    }
   ],
   "source": [
    "clnt_monthly_aggregations.shape[0]\n",
    "# clnt_monthly_aggregations has 103234 rows only without NaN,\n",
    "# since it records transactions of every client on particular date only."
   ]
  },
  {
   "cell_type": "code",
   "execution_count": 83,
   "id": "e6172728",
   "metadata": {},
   "outputs": [],
   "source": [
    "# 2. For the next step, the calculation of the rolling window features, you need to sort the\n",
    "# data first by ’CLNT NO’ and then by ’ME DT’ in ascending order. This is necessary\n",
    "# to create the order for rolling windows, e.g. 2011-05-31, 2011-06-30, etc."
   ]
  },
  {
   "cell_type": "code",
   "execution_count": 84,
   "id": "e65d7e20",
   "metadata": {},
   "outputs": [
    {
     "data": {
      "text/html": [
       "<div>\n",
       "<style scoped>\n",
       "    .dataframe tbody tr th:only-of-type {\n",
       "        vertical-align: middle;\n",
       "    }\n",
       "\n",
       "    .dataframe tbody tr th {\n",
       "        vertical-align: top;\n",
       "    }\n",
       "\n",
       "    .dataframe thead th {\n",
       "        text-align: right;\n",
       "    }\n",
       "</style>\n",
       "<table border=\"1\" class=\"dataframe\">\n",
       "  <thead>\n",
       "    <tr style=\"text-align: right;\">\n",
       "      <th></th>\n",
       "      <th>CLNT_NO</th>\n",
       "      <th>ME_DT</th>\n",
       "      <th>mth_txn_amt_sum</th>\n",
       "      <th>mth_txn_cnt</th>\n",
       "    </tr>\n",
       "  </thead>\n",
       "  <tbody>\n",
       "    <tr>\n",
       "      <th>157064</th>\n",
       "      <td>CS1112</td>\n",
       "      <td>2011-05-31</td>\n",
       "      <td>0.0</td>\n",
       "      <td>0.0</td>\n",
       "    </tr>\n",
       "    <tr>\n",
       "      <th>157058</th>\n",
       "      <td>CS1112</td>\n",
       "      <td>2011-06-30</td>\n",
       "      <td>56.0</td>\n",
       "      <td>1.0</td>\n",
       "    </tr>\n",
       "    <tr>\n",
       "      <th>157044</th>\n",
       "      <td>CS1112</td>\n",
       "      <td>2011-07-31</td>\n",
       "      <td>0.0</td>\n",
       "      <td>0.0</td>\n",
       "    </tr>\n",
       "    <tr>\n",
       "      <th>157069</th>\n",
       "      <td>CS1112</td>\n",
       "      <td>2011-08-31</td>\n",
       "      <td>96.0</td>\n",
       "      <td>1.0</td>\n",
       "    </tr>\n",
       "    <tr>\n",
       "      <th>157060</th>\n",
       "      <td>CS1112</td>\n",
       "      <td>2011-09-30</td>\n",
       "      <td>0.0</td>\n",
       "      <td>0.0</td>\n",
       "    </tr>\n",
       "  </tbody>\n",
       "</table>\n",
       "</div>"
      ],
      "text/plain": [
       "       CLNT_NO      ME_DT  mth_txn_amt_sum  mth_txn_cnt\n",
       "157064  CS1112 2011-05-31              0.0          0.0\n",
       "157058  CS1112 2011-06-30             56.0          1.0\n",
       "157044  CS1112 2011-07-31              0.0          0.0\n",
       "157069  CS1112 2011-08-31             96.0          1.0\n",
       "157060  CS1112 2011-09-30              0.0          0.0"
      ]
     },
     "execution_count": 84,
     "metadata": {},
     "output_type": "execute_result"
    }
   ],
   "source": [
    "base_clnt_mth = base_clnt_mth.sort_values(['CLNT_NO','ME_DT'],ascending = True)\n",
    "base_clnt_mth.head()"
   ]
  },
  {
   "cell_type": "code",
   "execution_count": 85,
   "id": "e66f864a",
   "metadata": {},
   "outputs": [],
   "source": [
    "# 3"
   ]
  },
  {
   "cell_type": "code",
   "execution_count": 86,
   "id": "13891f5e",
   "metadata": {},
   "outputs": [],
   "source": [
    "# groupby the client number\n",
    "# select the two columns you want to aggregate / I choose sum and count\n",
    "# use the rolling function with the appropriate windows\n",
    "# aggregate with ’sum’, mean’ and ’max’"
   ]
  },
  {
   "cell_type": "code",
   "execution_count": 87,
   "id": "05380e90",
   "metadata": {},
   "outputs": [
    {
     "data": {
      "text/html": [
       "<div>\n",
       "<style scoped>\n",
       "    .dataframe tbody tr th:only-of-type {\n",
       "        vertical-align: middle;\n",
       "    }\n",
       "\n",
       "    .dataframe tbody tr th {\n",
       "        vertical-align: top;\n",
       "    }\n",
       "\n",
       "    .dataframe thead tr th {\n",
       "        text-align: left;\n",
       "    }\n",
       "\n",
       "    .dataframe thead tr:last-of-type th {\n",
       "        text-align: right;\n",
       "    }\n",
       "</style>\n",
       "<table border=\"1\" class=\"dataframe\">\n",
       "  <thead>\n",
       "    <tr>\n",
       "      <th></th>\n",
       "      <th></th>\n",
       "      <th colspan=\"3\" halign=\"left\">mth_txn_amt_sum</th>\n",
       "      <th colspan=\"3\" halign=\"left\">mth_txn_cnt</th>\n",
       "    </tr>\n",
       "    <tr>\n",
       "      <th></th>\n",
       "      <th></th>\n",
       "      <th>sum</th>\n",
       "      <th>mean</th>\n",
       "      <th>max</th>\n",
       "      <th>sum</th>\n",
       "      <th>mean</th>\n",
       "      <th>max</th>\n",
       "    </tr>\n",
       "    <tr>\n",
       "      <th>CLNT_NO</th>\n",
       "      <th></th>\n",
       "      <th></th>\n",
       "      <th></th>\n",
       "      <th></th>\n",
       "      <th></th>\n",
       "      <th></th>\n",
       "      <th></th>\n",
       "    </tr>\n",
       "  </thead>\n",
       "  <tbody>\n",
       "    <tr>\n",
       "      <th rowspan=\"5\" valign=\"top\">CS1112</th>\n",
       "      <th>157064</th>\n",
       "      <td>NaN</td>\n",
       "      <td>NaN</td>\n",
       "      <td>NaN</td>\n",
       "      <td>NaN</td>\n",
       "      <td>NaN</td>\n",
       "      <td>NaN</td>\n",
       "    </tr>\n",
       "    <tr>\n",
       "      <th>157058</th>\n",
       "      <td>NaN</td>\n",
       "      <td>NaN</td>\n",
       "      <td>NaN</td>\n",
       "      <td>NaN</td>\n",
       "      <td>NaN</td>\n",
       "      <td>NaN</td>\n",
       "    </tr>\n",
       "    <tr>\n",
       "      <th>157044</th>\n",
       "      <td>56.0</td>\n",
       "      <td>18.666667</td>\n",
       "      <td>56.0</td>\n",
       "      <td>1.0</td>\n",
       "      <td>0.333333</td>\n",
       "      <td>1.0</td>\n",
       "    </tr>\n",
       "    <tr>\n",
       "      <th>157069</th>\n",
       "      <td>152.0</td>\n",
       "      <td>50.666667</td>\n",
       "      <td>96.0</td>\n",
       "      <td>2.0</td>\n",
       "      <td>0.666667</td>\n",
       "      <td>1.0</td>\n",
       "    </tr>\n",
       "    <tr>\n",
       "      <th>157060</th>\n",
       "      <td>96.0</td>\n",
       "      <td>32.000000</td>\n",
       "      <td>96.0</td>\n",
       "      <td>1.0</td>\n",
       "      <td>0.333333</td>\n",
       "      <td>1.0</td>\n",
       "    </tr>\n",
       "  </tbody>\n",
       "</table>\n",
       "</div>"
      ],
      "text/plain": [
       "               mth_txn_amt_sum                  mth_txn_cnt               \n",
       "                           sum       mean   max         sum      mean  max\n",
       "CLNT_NO                                                                   \n",
       "CS1112  157064             NaN        NaN   NaN         NaN       NaN  NaN\n",
       "        157058             NaN        NaN   NaN         NaN       NaN  NaN\n",
       "        157044            56.0  18.666667  56.0         1.0  0.333333  1.0\n",
       "        157069           152.0  50.666667  96.0         2.0  0.666667  1.0\n",
       "        157060            96.0  32.000000  96.0         1.0  0.333333  1.0"
      ]
     },
     "execution_count": 87,
     "metadata": {},
     "output_type": "execute_result"
    }
   ],
   "source": [
    "rolling_features_3M = base_clnt_mth.groupby(['CLNT_NO'])[['mth_txn_amt_sum','mth_txn_cnt']].rolling(3).agg(['sum', 'mean', 'max'])\n",
    "rolling_features_3M.head()"
   ]
  },
  {
   "cell_type": "code",
   "execution_count": 88,
   "id": "03600c12",
   "metadata": {},
   "outputs": [
    {
     "data": {
      "text/html": [
       "<div>\n",
       "<style scoped>\n",
       "    .dataframe tbody tr th:only-of-type {\n",
       "        vertical-align: middle;\n",
       "    }\n",
       "\n",
       "    .dataframe tbody tr th {\n",
       "        vertical-align: top;\n",
       "    }\n",
       "\n",
       "    .dataframe thead tr th {\n",
       "        text-align: left;\n",
       "    }\n",
       "\n",
       "    .dataframe thead tr:last-of-type th {\n",
       "        text-align: right;\n",
       "    }\n",
       "</style>\n",
       "<table border=\"1\" class=\"dataframe\">\n",
       "  <thead>\n",
       "    <tr>\n",
       "      <th></th>\n",
       "      <th></th>\n",
       "      <th colspan=\"3\" halign=\"left\">mth_txn_amt_sum</th>\n",
       "      <th colspan=\"3\" halign=\"left\">mth_txn_cnt</th>\n",
       "    </tr>\n",
       "    <tr>\n",
       "      <th></th>\n",
       "      <th></th>\n",
       "      <th>sum</th>\n",
       "      <th>mean</th>\n",
       "      <th>max</th>\n",
       "      <th>sum</th>\n",
       "      <th>mean</th>\n",
       "      <th>max</th>\n",
       "    </tr>\n",
       "    <tr>\n",
       "      <th>CLNT_NO</th>\n",
       "      <th></th>\n",
       "      <th></th>\n",
       "      <th></th>\n",
       "      <th></th>\n",
       "      <th></th>\n",
       "      <th></th>\n",
       "      <th></th>\n",
       "    </tr>\n",
       "  </thead>\n",
       "  <tbody>\n",
       "    <tr>\n",
       "      <th rowspan=\"5\" valign=\"top\">CS1112</th>\n",
       "      <th>157064</th>\n",
       "      <td>NaN</td>\n",
       "      <td>NaN</td>\n",
       "      <td>NaN</td>\n",
       "      <td>NaN</td>\n",
       "      <td>NaN</td>\n",
       "      <td>NaN</td>\n",
       "    </tr>\n",
       "    <tr>\n",
       "      <th>157058</th>\n",
       "      <td>NaN</td>\n",
       "      <td>NaN</td>\n",
       "      <td>NaN</td>\n",
       "      <td>NaN</td>\n",
       "      <td>NaN</td>\n",
       "      <td>NaN</td>\n",
       "    </tr>\n",
       "    <tr>\n",
       "      <th>157044</th>\n",
       "      <td>NaN</td>\n",
       "      <td>NaN</td>\n",
       "      <td>NaN</td>\n",
       "      <td>NaN</td>\n",
       "      <td>NaN</td>\n",
       "      <td>NaN</td>\n",
       "    </tr>\n",
       "    <tr>\n",
       "      <th>157069</th>\n",
       "      <td>NaN</td>\n",
       "      <td>NaN</td>\n",
       "      <td>NaN</td>\n",
       "      <td>NaN</td>\n",
       "      <td>NaN</td>\n",
       "      <td>NaN</td>\n",
       "    </tr>\n",
       "    <tr>\n",
       "      <th>157060</th>\n",
       "      <td>NaN</td>\n",
       "      <td>NaN</td>\n",
       "      <td>NaN</td>\n",
       "      <td>NaN</td>\n",
       "      <td>NaN</td>\n",
       "      <td>NaN</td>\n",
       "    </tr>\n",
       "  </tbody>\n",
       "</table>\n",
       "</div>"
      ],
      "text/plain": [
       "               mth_txn_amt_sum          mth_txn_cnt         \n",
       "                           sum mean max         sum mean max\n",
       "CLNT_NO                                                     \n",
       "CS1112  157064             NaN  NaN NaN         NaN  NaN NaN\n",
       "        157058             NaN  NaN NaN         NaN  NaN NaN\n",
       "        157044             NaN  NaN NaN         NaN  NaN NaN\n",
       "        157069             NaN  NaN NaN         NaN  NaN NaN\n",
       "        157060             NaN  NaN NaN         NaN  NaN NaN"
      ]
     },
     "execution_count": 88,
     "metadata": {},
     "output_type": "execute_result"
    }
   ],
   "source": [
    "rolling_features_6M = base_clnt_mth.groupby(['CLNT_NO'])[['mth_txn_amt_sum','mth_txn_cnt']].rolling(6).agg(['sum', 'mean', 'max'])\n",
    "rolling_features_6M.head()"
   ]
  },
  {
   "cell_type": "code",
   "execution_count": 89,
   "id": "ad3000ea",
   "metadata": {},
   "outputs": [
    {
     "data": {
      "text/html": [
       "<div>\n",
       "<style scoped>\n",
       "    .dataframe tbody tr th:only-of-type {\n",
       "        vertical-align: middle;\n",
       "    }\n",
       "\n",
       "    .dataframe tbody tr th {\n",
       "        vertical-align: top;\n",
       "    }\n",
       "\n",
       "    .dataframe thead tr th {\n",
       "        text-align: left;\n",
       "    }\n",
       "\n",
       "    .dataframe thead tr:last-of-type th {\n",
       "        text-align: right;\n",
       "    }\n",
       "</style>\n",
       "<table border=\"1\" class=\"dataframe\">\n",
       "  <thead>\n",
       "    <tr>\n",
       "      <th></th>\n",
       "      <th></th>\n",
       "      <th colspan=\"3\" halign=\"left\">mth_txn_amt_sum</th>\n",
       "      <th colspan=\"3\" halign=\"left\">mth_txn_cnt</th>\n",
       "    </tr>\n",
       "    <tr>\n",
       "      <th></th>\n",
       "      <th></th>\n",
       "      <th>sum</th>\n",
       "      <th>mean</th>\n",
       "      <th>max</th>\n",
       "      <th>sum</th>\n",
       "      <th>mean</th>\n",
       "      <th>max</th>\n",
       "    </tr>\n",
       "    <tr>\n",
       "      <th>CLNT_NO</th>\n",
       "      <th></th>\n",
       "      <th></th>\n",
       "      <th></th>\n",
       "      <th></th>\n",
       "      <th></th>\n",
       "      <th></th>\n",
       "      <th></th>\n",
       "    </tr>\n",
       "  </thead>\n",
       "  <tbody>\n",
       "    <tr>\n",
       "      <th rowspan=\"5\" valign=\"top\">CS1112</th>\n",
       "      <th>157064</th>\n",
       "      <td>NaN</td>\n",
       "      <td>NaN</td>\n",
       "      <td>NaN</td>\n",
       "      <td>NaN</td>\n",
       "      <td>NaN</td>\n",
       "      <td>NaN</td>\n",
       "    </tr>\n",
       "    <tr>\n",
       "      <th>157058</th>\n",
       "      <td>NaN</td>\n",
       "      <td>NaN</td>\n",
       "      <td>NaN</td>\n",
       "      <td>NaN</td>\n",
       "      <td>NaN</td>\n",
       "      <td>NaN</td>\n",
       "    </tr>\n",
       "    <tr>\n",
       "      <th>157044</th>\n",
       "      <td>NaN</td>\n",
       "      <td>NaN</td>\n",
       "      <td>NaN</td>\n",
       "      <td>NaN</td>\n",
       "      <td>NaN</td>\n",
       "      <td>NaN</td>\n",
       "    </tr>\n",
       "    <tr>\n",
       "      <th>157069</th>\n",
       "      <td>NaN</td>\n",
       "      <td>NaN</td>\n",
       "      <td>NaN</td>\n",
       "      <td>NaN</td>\n",
       "      <td>NaN</td>\n",
       "      <td>NaN</td>\n",
       "    </tr>\n",
       "    <tr>\n",
       "      <th>157060</th>\n",
       "      <td>NaN</td>\n",
       "      <td>NaN</td>\n",
       "      <td>NaN</td>\n",
       "      <td>NaN</td>\n",
       "      <td>NaN</td>\n",
       "      <td>NaN</td>\n",
       "    </tr>\n",
       "  </tbody>\n",
       "</table>\n",
       "</div>"
      ],
      "text/plain": [
       "               mth_txn_amt_sum          mth_txn_cnt         \n",
       "                           sum mean max         sum mean max\n",
       "CLNT_NO                                                     \n",
       "CS1112  157064             NaN  NaN NaN         NaN  NaN NaN\n",
       "        157058             NaN  NaN NaN         NaN  NaN NaN\n",
       "        157044             NaN  NaN NaN         NaN  NaN NaN\n",
       "        157069             NaN  NaN NaN         NaN  NaN NaN\n",
       "        157060             NaN  NaN NaN         NaN  NaN NaN"
      ]
     },
     "execution_count": 89,
     "metadata": {},
     "output_type": "execute_result"
    }
   ],
   "source": [
    "rolling_features_12M = base_clnt_mth.groupby(['CLNT_NO'])[['mth_txn_amt_sum','mth_txn_cnt']].rolling(12).agg(['sum', 'mean', 'max'])\n",
    "rolling_features_12M.head()"
   ]
  },
  {
   "cell_type": "markdown",
   "id": "c363714f",
   "metadata": {},
   "source": [
    "How many rows appear with NaN values at the beginning of each client for 3, 6 and 12-month windows, respectively?\n",
    "Why do they appear?\n",
    "\n",
    "My answer: 2, 5, 11.\n",
    "2 = 3 - 1\n",
    "5 = 6 - 1\n",
    "11 = 12 -1\n",
    "Based on the idea behind rolling window features is captured in the image,\n",
    "I calculate some statistical properties (e.g. average) based on a window that is sliding.\n",
    "The window is 3 which means that the last 3 points are used at every row to calculate the statistical property.\n",
    "The window is 6 which means that the last 6 points are used at every row to calculate the statistical property.\n",
    "The window is 12 which means that the last 12 points are used at every row to calculate the statistical property."
   ]
  },
  {
   "cell_type": "code",
   "execution_count": 90,
   "id": "368918f1",
   "metadata": {},
   "outputs": [
    {
     "name": "stdout",
     "output_type": "stream",
     "text": [
      "2\n",
      "2\n",
      "2\n",
      "2\n",
      "2\n",
      "2\n"
     ]
    }
   ],
   "source": [
    "print(rolling_features_3M.index.nlevels)\n",
    "print(rolling_features_6M.index.nlevels)\n",
    "print(rolling_features_12M.index.nlevels)\n",
    "\n",
    "print(rolling_features_3M.columns.nlevels)\n",
    "print(rolling_features_6M.columns.nlevels)\n",
    "print(rolling_features_12M.columns.nlevels)"
   ]
  },
  {
   "cell_type": "markdown",
   "id": "ac3309f4",
   "metadata": {},
   "source": [
    "How many levels do the index and columns have? Are these MultiIndex dataframes?\n",
    "\n",
    "My answer: \n",
    "rolling_features_3M: index has 2 levels, columns has 2 levels.\n",
    "rolling_features_6M: index has 2 levels, columns has 2 levels.\n",
    "rolling_features_12M: index has 2 levels, columns has 2 levels."
   ]
  },
  {
   "cell_type": "code",
   "execution_count": 91,
   "id": "a5189b26",
   "metadata": {},
   "outputs": [],
   "source": [
    "# Rename the columns as following: ’amt sum 3M’, ’amt mean 3M’, ’amt max 3M’,\n",
    "# ’txn cnt sum 3M’, ’txn cnt mean 3M’, ’txn cnt max 3M’ and follow the same naming convention for 6M and 12M."
   ]
  },
  {
   "cell_type": "code",
   "execution_count": 92,
   "id": "d0d7e118",
   "metadata": {},
   "outputs": [
    {
     "data": {
      "text/html": [
       "<div>\n",
       "<style scoped>\n",
       "    .dataframe tbody tr th:only-of-type {\n",
       "        vertical-align: middle;\n",
       "    }\n",
       "\n",
       "    .dataframe tbody tr th {\n",
       "        vertical-align: top;\n",
       "    }\n",
       "\n",
       "    .dataframe thead th {\n",
       "        text-align: right;\n",
       "    }\n",
       "</style>\n",
       "<table border=\"1\" class=\"dataframe\">\n",
       "  <thead>\n",
       "    <tr style=\"text-align: right;\">\n",
       "      <th></th>\n",
       "      <th></th>\n",
       "      <th>amt_sum_3M</th>\n",
       "      <th>amt_mean_3M</th>\n",
       "      <th>amt_max_3M</th>\n",
       "      <th>txn_cnt_sum_3M</th>\n",
       "      <th>txn_cnt_mean_3M</th>\n",
       "      <th>txn_cnt_max_3M</th>\n",
       "    </tr>\n",
       "    <tr>\n",
       "      <th>CLNT_NO</th>\n",
       "      <th></th>\n",
       "      <th></th>\n",
       "      <th></th>\n",
       "      <th></th>\n",
       "      <th></th>\n",
       "      <th></th>\n",
       "      <th></th>\n",
       "    </tr>\n",
       "  </thead>\n",
       "  <tbody>\n",
       "    <tr>\n",
       "      <th rowspan=\"5\" valign=\"top\">CS1112</th>\n",
       "      <th>157064</th>\n",
       "      <td>NaN</td>\n",
       "      <td>NaN</td>\n",
       "      <td>NaN</td>\n",
       "      <td>NaN</td>\n",
       "      <td>NaN</td>\n",
       "      <td>NaN</td>\n",
       "    </tr>\n",
       "    <tr>\n",
       "      <th>157058</th>\n",
       "      <td>NaN</td>\n",
       "      <td>NaN</td>\n",
       "      <td>NaN</td>\n",
       "      <td>NaN</td>\n",
       "      <td>NaN</td>\n",
       "      <td>NaN</td>\n",
       "    </tr>\n",
       "    <tr>\n",
       "      <th>157044</th>\n",
       "      <td>56.0</td>\n",
       "      <td>18.666667</td>\n",
       "      <td>56.0</td>\n",
       "      <td>1.0</td>\n",
       "      <td>0.333333</td>\n",
       "      <td>1.0</td>\n",
       "    </tr>\n",
       "    <tr>\n",
       "      <th>157069</th>\n",
       "      <td>152.0</td>\n",
       "      <td>50.666667</td>\n",
       "      <td>96.0</td>\n",
       "      <td>2.0</td>\n",
       "      <td>0.666667</td>\n",
       "      <td>1.0</td>\n",
       "    </tr>\n",
       "    <tr>\n",
       "      <th>157060</th>\n",
       "      <td>96.0</td>\n",
       "      <td>32.000000</td>\n",
       "      <td>96.0</td>\n",
       "      <td>1.0</td>\n",
       "      <td>0.333333</td>\n",
       "      <td>1.0</td>\n",
       "    </tr>\n",
       "  </tbody>\n",
       "</table>\n",
       "</div>"
      ],
      "text/plain": [
       "                amt_sum_3M  amt_mean_3M  amt_max_3M  txn_cnt_sum_3M  \\\n",
       "CLNT_NO                                                               \n",
       "CS1112  157064         NaN          NaN         NaN             NaN   \n",
       "        157058         NaN          NaN         NaN             NaN   \n",
       "        157044        56.0    18.666667        56.0             1.0   \n",
       "        157069       152.0    50.666667        96.0             2.0   \n",
       "        157060        96.0    32.000000        96.0             1.0   \n",
       "\n",
       "                txn_cnt_mean_3M  txn_cnt_max_3M  \n",
       "CLNT_NO                                          \n",
       "CS1112  157064              NaN             NaN  \n",
       "        157058              NaN             NaN  \n",
       "        157044         0.333333             1.0  \n",
       "        157069         0.666667             1.0  \n",
       "        157060         0.333333             1.0  "
      ]
     },
     "execution_count": 92,
     "metadata": {},
     "output_type": "execute_result"
    }
   ],
   "source": [
    "rolling_features_3M.columns = ['amt_sum_3M', 'amt_mean_3M', 'amt_max_3M', 'txn_cnt_sum_3M', 'txn_cnt_mean_3M', 'txn_cnt_max_3M']\n",
    "rolling_features_3M.head()"
   ]
  },
  {
   "cell_type": "code",
   "execution_count": 93,
   "id": "09b8be28",
   "metadata": {},
   "outputs": [
    {
     "data": {
      "text/html": [
       "<div>\n",
       "<style scoped>\n",
       "    .dataframe tbody tr th:only-of-type {\n",
       "        vertical-align: middle;\n",
       "    }\n",
       "\n",
       "    .dataframe tbody tr th {\n",
       "        vertical-align: top;\n",
       "    }\n",
       "\n",
       "    .dataframe thead th {\n",
       "        text-align: right;\n",
       "    }\n",
       "</style>\n",
       "<table border=\"1\" class=\"dataframe\">\n",
       "  <thead>\n",
       "    <tr style=\"text-align: right;\">\n",
       "      <th></th>\n",
       "      <th></th>\n",
       "      <th>amt_sum_6M</th>\n",
       "      <th>amt_mean_6M</th>\n",
       "      <th>amt_max_6M</th>\n",
       "      <th>txn_cnt_sum_6M</th>\n",
       "      <th>txn_cnt_mean_6M</th>\n",
       "      <th>txn_cnt_max_6M</th>\n",
       "    </tr>\n",
       "    <tr>\n",
       "      <th>CLNT_NO</th>\n",
       "      <th></th>\n",
       "      <th></th>\n",
       "      <th></th>\n",
       "      <th></th>\n",
       "      <th></th>\n",
       "      <th></th>\n",
       "      <th></th>\n",
       "    </tr>\n",
       "  </thead>\n",
       "  <tbody>\n",
       "    <tr>\n",
       "      <th rowspan=\"5\" valign=\"top\">CS1112</th>\n",
       "      <th>157064</th>\n",
       "      <td>NaN</td>\n",
       "      <td>NaN</td>\n",
       "      <td>NaN</td>\n",
       "      <td>NaN</td>\n",
       "      <td>NaN</td>\n",
       "      <td>NaN</td>\n",
       "    </tr>\n",
       "    <tr>\n",
       "      <th>157058</th>\n",
       "      <td>NaN</td>\n",
       "      <td>NaN</td>\n",
       "      <td>NaN</td>\n",
       "      <td>NaN</td>\n",
       "      <td>NaN</td>\n",
       "      <td>NaN</td>\n",
       "    </tr>\n",
       "    <tr>\n",
       "      <th>157044</th>\n",
       "      <td>NaN</td>\n",
       "      <td>NaN</td>\n",
       "      <td>NaN</td>\n",
       "      <td>NaN</td>\n",
       "      <td>NaN</td>\n",
       "      <td>NaN</td>\n",
       "    </tr>\n",
       "    <tr>\n",
       "      <th>157069</th>\n",
       "      <td>NaN</td>\n",
       "      <td>NaN</td>\n",
       "      <td>NaN</td>\n",
       "      <td>NaN</td>\n",
       "      <td>NaN</td>\n",
       "      <td>NaN</td>\n",
       "    </tr>\n",
       "    <tr>\n",
       "      <th>157060</th>\n",
       "      <td>NaN</td>\n",
       "      <td>NaN</td>\n",
       "      <td>NaN</td>\n",
       "      <td>NaN</td>\n",
       "      <td>NaN</td>\n",
       "      <td>NaN</td>\n",
       "    </tr>\n",
       "  </tbody>\n",
       "</table>\n",
       "</div>"
      ],
      "text/plain": [
       "                amt_sum_6M  amt_mean_6M  amt_max_6M  txn_cnt_sum_6M  \\\n",
       "CLNT_NO                                                               \n",
       "CS1112  157064         NaN          NaN         NaN             NaN   \n",
       "        157058         NaN          NaN         NaN             NaN   \n",
       "        157044         NaN          NaN         NaN             NaN   \n",
       "        157069         NaN          NaN         NaN             NaN   \n",
       "        157060         NaN          NaN         NaN             NaN   \n",
       "\n",
       "                txn_cnt_mean_6M  txn_cnt_max_6M  \n",
       "CLNT_NO                                          \n",
       "CS1112  157064              NaN             NaN  \n",
       "        157058              NaN             NaN  \n",
       "        157044              NaN             NaN  \n",
       "        157069              NaN             NaN  \n",
       "        157060              NaN             NaN  "
      ]
     },
     "execution_count": 93,
     "metadata": {},
     "output_type": "execute_result"
    }
   ],
   "source": [
    "rolling_features_6M.columns = ['amt_sum_6M', 'amt_mean_6M', 'amt_max_6M', 'txn_cnt_sum_6M', 'txn_cnt_mean_6M', 'txn_cnt_max_6M']\n",
    "rolling_features_6M.head()"
   ]
  },
  {
   "cell_type": "code",
   "execution_count": 94,
   "id": "d72fa534",
   "metadata": {},
   "outputs": [
    {
     "data": {
      "text/html": [
       "<div>\n",
       "<style scoped>\n",
       "    .dataframe tbody tr th:only-of-type {\n",
       "        vertical-align: middle;\n",
       "    }\n",
       "\n",
       "    .dataframe tbody tr th {\n",
       "        vertical-align: top;\n",
       "    }\n",
       "\n",
       "    .dataframe thead th {\n",
       "        text-align: right;\n",
       "    }\n",
       "</style>\n",
       "<table border=\"1\" class=\"dataframe\">\n",
       "  <thead>\n",
       "    <tr style=\"text-align: right;\">\n",
       "      <th></th>\n",
       "      <th></th>\n",
       "      <th>amt_sum_12M</th>\n",
       "      <th>amt_mean_12M</th>\n",
       "      <th>amt_max_12M</th>\n",
       "      <th>txn_cnt_sum_12M</th>\n",
       "      <th>txn_cnt_mean_12M</th>\n",
       "      <th>txn_cnt_max_12M</th>\n",
       "    </tr>\n",
       "    <tr>\n",
       "      <th>CLNT_NO</th>\n",
       "      <th></th>\n",
       "      <th></th>\n",
       "      <th></th>\n",
       "      <th></th>\n",
       "      <th></th>\n",
       "      <th></th>\n",
       "      <th></th>\n",
       "    </tr>\n",
       "  </thead>\n",
       "  <tbody>\n",
       "    <tr>\n",
       "      <th rowspan=\"5\" valign=\"top\">CS1112</th>\n",
       "      <th>157064</th>\n",
       "      <td>NaN</td>\n",
       "      <td>NaN</td>\n",
       "      <td>NaN</td>\n",
       "      <td>NaN</td>\n",
       "      <td>NaN</td>\n",
       "      <td>NaN</td>\n",
       "    </tr>\n",
       "    <tr>\n",
       "      <th>157058</th>\n",
       "      <td>NaN</td>\n",
       "      <td>NaN</td>\n",
       "      <td>NaN</td>\n",
       "      <td>NaN</td>\n",
       "      <td>NaN</td>\n",
       "      <td>NaN</td>\n",
       "    </tr>\n",
       "    <tr>\n",
       "      <th>157044</th>\n",
       "      <td>NaN</td>\n",
       "      <td>NaN</td>\n",
       "      <td>NaN</td>\n",
       "      <td>NaN</td>\n",
       "      <td>NaN</td>\n",
       "      <td>NaN</td>\n",
       "    </tr>\n",
       "    <tr>\n",
       "      <th>157069</th>\n",
       "      <td>NaN</td>\n",
       "      <td>NaN</td>\n",
       "      <td>NaN</td>\n",
       "      <td>NaN</td>\n",
       "      <td>NaN</td>\n",
       "      <td>NaN</td>\n",
       "    </tr>\n",
       "    <tr>\n",
       "      <th>157060</th>\n",
       "      <td>NaN</td>\n",
       "      <td>NaN</td>\n",
       "      <td>NaN</td>\n",
       "      <td>NaN</td>\n",
       "      <td>NaN</td>\n",
       "      <td>NaN</td>\n",
       "    </tr>\n",
       "  </tbody>\n",
       "</table>\n",
       "</div>"
      ],
      "text/plain": [
       "                amt_sum_12M  amt_mean_12M  amt_max_12M  txn_cnt_sum_12M  \\\n",
       "CLNT_NO                                                                   \n",
       "CS1112  157064          NaN           NaN          NaN              NaN   \n",
       "        157058          NaN           NaN          NaN              NaN   \n",
       "        157044          NaN           NaN          NaN              NaN   \n",
       "        157069          NaN           NaN          NaN              NaN   \n",
       "        157060          NaN           NaN          NaN              NaN   \n",
       "\n",
       "                txn_cnt_mean_12M  txn_cnt_max_12M  \n",
       "CLNT_NO                                            \n",
       "CS1112  157064               NaN              NaN  \n",
       "        157058               NaN              NaN  \n",
       "        157044               NaN              NaN  \n",
       "        157069               NaN              NaN  \n",
       "        157060               NaN              NaN  "
      ]
     },
     "execution_count": 94,
     "metadata": {},
     "output_type": "execute_result"
    }
   ],
   "source": [
    "rolling_features_12M.columns = ['amt_sum_12M', 'amt_mean_12M', 'amt_max_12M', 'txn_cnt_sum_12M', 'txn_cnt_mean_12M', 'txn_cnt_max_12M']\n",
    "rolling_features_12M.head()"
   ]
  },
  {
   "cell_type": "code",
   "execution_count": 93,
   "id": "c364fc5e",
   "metadata": {},
   "outputs": [],
   "source": [
    "# Merge the 4 tables: base clnt mth, rolling features 3M, rolling features 6M,\n",
    "# rolling features 12M in the output all rolling features.\n",
    "# It is recommended to drop the level:0 of the rolling features MultiIndex table and \n",
    "# join with base clnt mth on the indexes."
   ]
  },
  {
   "cell_type": "code",
   "execution_count": 95,
   "id": "af9e61a2",
   "metadata": {},
   "outputs": [],
   "source": [
    "rolling_features_3M.index = rolling_features_3M.index.droplevel(0)\n",
    "rolling_features_6M.index = rolling_features_6M.index.droplevel(0)\n",
    "rolling_features_12M.index = rolling_features_12M.index.droplevel(0)"
   ]
  },
  {
   "cell_type": "code",
   "execution_count": 96,
   "id": "ebbfd5ef",
   "metadata": {},
   "outputs": [
    {
     "data": {
      "text/html": [
       "<div>\n",
       "<style scoped>\n",
       "    .dataframe tbody tr th:only-of-type {\n",
       "        vertical-align: middle;\n",
       "    }\n",
       "\n",
       "    .dataframe tbody tr th {\n",
       "        vertical-align: top;\n",
       "    }\n",
       "\n",
       "    .dataframe thead th {\n",
       "        text-align: right;\n",
       "    }\n",
       "</style>\n",
       "<table border=\"1\" class=\"dataframe\">\n",
       "  <thead>\n",
       "    <tr style=\"text-align: right;\">\n",
       "      <th></th>\n",
       "      <th>CLNT_NO</th>\n",
       "      <th>ME_DT</th>\n",
       "      <th>mth_txn_amt_sum</th>\n",
       "      <th>mth_txn_cnt</th>\n",
       "      <th>amt_sum_3M</th>\n",
       "      <th>amt_mean_3M</th>\n",
       "      <th>amt_max_3M</th>\n",
       "      <th>txn_cnt_sum_3M</th>\n",
       "      <th>txn_cnt_mean_3M</th>\n",
       "      <th>txn_cnt_max_3M</th>\n",
       "      <th>...</th>\n",
       "      <th>amt_max_6M</th>\n",
       "      <th>txn_cnt_sum_6M</th>\n",
       "      <th>txn_cnt_mean_6M</th>\n",
       "      <th>txn_cnt_max_6M</th>\n",
       "      <th>amt_sum_12M</th>\n",
       "      <th>amt_mean_12M</th>\n",
       "      <th>amt_max_12M</th>\n",
       "      <th>txn_cnt_sum_12M</th>\n",
       "      <th>txn_cnt_mean_12M</th>\n",
       "      <th>txn_cnt_max_12M</th>\n",
       "    </tr>\n",
       "  </thead>\n",
       "  <tbody>\n",
       "    <tr>\n",
       "      <th>157064</th>\n",
       "      <td>CS1112</td>\n",
       "      <td>2011-05-31</td>\n",
       "      <td>0.0</td>\n",
       "      <td>0.0</td>\n",
       "      <td>NaN</td>\n",
       "      <td>NaN</td>\n",
       "      <td>NaN</td>\n",
       "      <td>NaN</td>\n",
       "      <td>NaN</td>\n",
       "      <td>NaN</td>\n",
       "      <td>...</td>\n",
       "      <td>NaN</td>\n",
       "      <td>NaN</td>\n",
       "      <td>NaN</td>\n",
       "      <td>NaN</td>\n",
       "      <td>NaN</td>\n",
       "      <td>NaN</td>\n",
       "      <td>NaN</td>\n",
       "      <td>NaN</td>\n",
       "      <td>NaN</td>\n",
       "      <td>NaN</td>\n",
       "    </tr>\n",
       "    <tr>\n",
       "      <th>157058</th>\n",
       "      <td>CS1112</td>\n",
       "      <td>2011-06-30</td>\n",
       "      <td>56.0</td>\n",
       "      <td>1.0</td>\n",
       "      <td>NaN</td>\n",
       "      <td>NaN</td>\n",
       "      <td>NaN</td>\n",
       "      <td>NaN</td>\n",
       "      <td>NaN</td>\n",
       "      <td>NaN</td>\n",
       "      <td>...</td>\n",
       "      <td>NaN</td>\n",
       "      <td>NaN</td>\n",
       "      <td>NaN</td>\n",
       "      <td>NaN</td>\n",
       "      <td>NaN</td>\n",
       "      <td>NaN</td>\n",
       "      <td>NaN</td>\n",
       "      <td>NaN</td>\n",
       "      <td>NaN</td>\n",
       "      <td>NaN</td>\n",
       "    </tr>\n",
       "    <tr>\n",
       "      <th>157044</th>\n",
       "      <td>CS1112</td>\n",
       "      <td>2011-07-31</td>\n",
       "      <td>0.0</td>\n",
       "      <td>0.0</td>\n",
       "      <td>56.0</td>\n",
       "      <td>18.666667</td>\n",
       "      <td>56.0</td>\n",
       "      <td>1.0</td>\n",
       "      <td>0.333333</td>\n",
       "      <td>1.0</td>\n",
       "      <td>...</td>\n",
       "      <td>NaN</td>\n",
       "      <td>NaN</td>\n",
       "      <td>NaN</td>\n",
       "      <td>NaN</td>\n",
       "      <td>NaN</td>\n",
       "      <td>NaN</td>\n",
       "      <td>NaN</td>\n",
       "      <td>NaN</td>\n",
       "      <td>NaN</td>\n",
       "      <td>NaN</td>\n",
       "    </tr>\n",
       "    <tr>\n",
       "      <th>157069</th>\n",
       "      <td>CS1112</td>\n",
       "      <td>2011-08-31</td>\n",
       "      <td>96.0</td>\n",
       "      <td>1.0</td>\n",
       "      <td>152.0</td>\n",
       "      <td>50.666667</td>\n",
       "      <td>96.0</td>\n",
       "      <td>2.0</td>\n",
       "      <td>0.666667</td>\n",
       "      <td>1.0</td>\n",
       "      <td>...</td>\n",
       "      <td>NaN</td>\n",
       "      <td>NaN</td>\n",
       "      <td>NaN</td>\n",
       "      <td>NaN</td>\n",
       "      <td>NaN</td>\n",
       "      <td>NaN</td>\n",
       "      <td>NaN</td>\n",
       "      <td>NaN</td>\n",
       "      <td>NaN</td>\n",
       "      <td>NaN</td>\n",
       "    </tr>\n",
       "    <tr>\n",
       "      <th>157060</th>\n",
       "      <td>CS1112</td>\n",
       "      <td>2011-09-30</td>\n",
       "      <td>0.0</td>\n",
       "      <td>0.0</td>\n",
       "      <td>96.0</td>\n",
       "      <td>32.000000</td>\n",
       "      <td>96.0</td>\n",
       "      <td>1.0</td>\n",
       "      <td>0.333333</td>\n",
       "      <td>1.0</td>\n",
       "      <td>...</td>\n",
       "      <td>NaN</td>\n",
       "      <td>NaN</td>\n",
       "      <td>NaN</td>\n",
       "      <td>NaN</td>\n",
       "      <td>NaN</td>\n",
       "      <td>NaN</td>\n",
       "      <td>NaN</td>\n",
       "      <td>NaN</td>\n",
       "      <td>NaN</td>\n",
       "      <td>NaN</td>\n",
       "    </tr>\n",
       "  </tbody>\n",
       "</table>\n",
       "<p>5 rows × 22 columns</p>\n",
       "</div>"
      ],
      "text/plain": [
       "       CLNT_NO      ME_DT  mth_txn_amt_sum  mth_txn_cnt  amt_sum_3M  \\\n",
       "157064  CS1112 2011-05-31              0.0          0.0         NaN   \n",
       "157058  CS1112 2011-06-30             56.0          1.0         NaN   \n",
       "157044  CS1112 2011-07-31              0.0          0.0        56.0   \n",
       "157069  CS1112 2011-08-31             96.0          1.0       152.0   \n",
       "157060  CS1112 2011-09-30              0.0          0.0        96.0   \n",
       "\n",
       "        amt_mean_3M  amt_max_3M  txn_cnt_sum_3M  txn_cnt_mean_3M  \\\n",
       "157064          NaN         NaN             NaN              NaN   \n",
       "157058          NaN         NaN             NaN              NaN   \n",
       "157044    18.666667        56.0             1.0         0.333333   \n",
       "157069    50.666667        96.0             2.0         0.666667   \n",
       "157060    32.000000        96.0             1.0         0.333333   \n",
       "\n",
       "        txn_cnt_max_3M  ...  amt_max_6M  txn_cnt_sum_6M  txn_cnt_mean_6M  \\\n",
       "157064             NaN  ...         NaN             NaN              NaN   \n",
       "157058             NaN  ...         NaN             NaN              NaN   \n",
       "157044             1.0  ...         NaN             NaN              NaN   \n",
       "157069             1.0  ...         NaN             NaN              NaN   \n",
       "157060             1.0  ...         NaN             NaN              NaN   \n",
       "\n",
       "        txn_cnt_max_6M  amt_sum_12M  amt_mean_12M  amt_max_12M  \\\n",
       "157064             NaN          NaN           NaN          NaN   \n",
       "157058             NaN          NaN           NaN          NaN   \n",
       "157044             NaN          NaN           NaN          NaN   \n",
       "157069             NaN          NaN           NaN          NaN   \n",
       "157060             NaN          NaN           NaN          NaN   \n",
       "\n",
       "        txn_cnt_sum_12M  txn_cnt_mean_12M  txn_cnt_max_12M  \n",
       "157064              NaN               NaN              NaN  \n",
       "157058              NaN               NaN              NaN  \n",
       "157044              NaN               NaN              NaN  \n",
       "157069              NaN               NaN              NaN  \n",
       "157060              NaN               NaN              NaN  \n",
       "\n",
       "[5 rows x 22 columns]"
      ]
     },
     "execution_count": 96,
     "metadata": {},
     "output_type": "execute_result"
    }
   ],
   "source": [
    "all_rolling_features = base_clnt_mth.join(rolling_features_3M).join(rolling_features_6M).join(rolling_features_12M)\n",
    "all_rolling_features.head()"
   ]
  },
  {
   "cell_type": "code",
   "execution_count": 97,
   "id": "81dbfc01",
   "metadata": {},
   "outputs": [],
   "source": [
    "# 5. Confirm that your final output all rolling features has 323,783 rows and 22 columns\n",
    "# and save it as mth rolling features.xlsx."
   ]
  },
  {
   "cell_type": "code",
   "execution_count": 98,
   "id": "05e3573d",
   "metadata": {},
   "outputs": [
    {
     "data": {
      "text/plain": [
       "(323783, 22)"
      ]
     },
     "execution_count": 98,
     "metadata": {},
     "output_type": "execute_result"
    }
   ],
   "source": [
    "all_rolling_features.shape\n",
    "# 323,783 rows and 22 columns"
   ]
  },
  {
   "cell_type": "code",
   "execution_count": 107,
   "id": "28a22859",
   "metadata": {},
   "outputs": [],
   "source": [
    "all_rolling_features.to_excel(\"mth_rolling_features.xlsx\")"
   ]
  },
  {
   "cell_type": "code",
   "execution_count": 100,
   "id": "7e81a099",
   "metadata": {},
   "outputs": [],
   "source": [
    "# 1.6 Date-related features: date of the week"
   ]
  },
  {
   "cell_type": "code",
   "execution_count": 101,
   "id": "9d9d43bb",
   "metadata": {},
   "outputs": [],
   "source": [
    "# you want to use the attributes dt.dayofweek and/or dt.day name() to\n",
    "# extract the day of the week from column ’txn date’ of the txn table (with Monday=0, Sunday=6). "
   ]
  },
  {
   "cell_type": "code",
   "execution_count": 106,
   "id": "24c52fbd",
   "metadata": {},
   "outputs": [
    {
     "data": {
      "text/html": [
       "<div>\n",
       "<style scoped>\n",
       "    .dataframe tbody tr th:only-of-type {\n",
       "        vertical-align: middle;\n",
       "    }\n",
       "\n",
       "    .dataframe tbody tr th {\n",
       "        vertical-align: top;\n",
       "    }\n",
       "\n",
       "    .dataframe thead th {\n",
       "        text-align: right;\n",
       "    }\n",
       "</style>\n",
       "<table border=\"1\" class=\"dataframe\">\n",
       "  <thead>\n",
       "    <tr style=\"text-align: right;\">\n",
       "      <th></th>\n",
       "      <th>customer_id</th>\n",
       "      <th>tran_amount</th>\n",
       "      <th>txn_date</th>\n",
       "      <th>ME_DT</th>\n",
       "      <th>YEAR</th>\n",
       "      <th>day_of_the_week</th>\n",
       "      <th>day_name</th>\n",
       "    </tr>\n",
       "  </thead>\n",
       "  <tbody>\n",
       "    <tr>\n",
       "      <th>0</th>\n",
       "      <td>CS5295</td>\n",
       "      <td>35</td>\n",
       "      <td>2013-02-11</td>\n",
       "      <td>2013-02-28</td>\n",
       "      <td>2013</td>\n",
       "      <td>0</td>\n",
       "      <td>Monday</td>\n",
       "    </tr>\n",
       "    <tr>\n",
       "      <th>1</th>\n",
       "      <td>CS4768</td>\n",
       "      <td>39</td>\n",
       "      <td>2015-03-15</td>\n",
       "      <td>2015-03-31</td>\n",
       "      <td>2015</td>\n",
       "      <td>6</td>\n",
       "      <td>Sunday</td>\n",
       "    </tr>\n",
       "    <tr>\n",
       "      <th>2</th>\n",
       "      <td>CS2122</td>\n",
       "      <td>52</td>\n",
       "      <td>2013-02-26</td>\n",
       "      <td>2013-02-28</td>\n",
       "      <td>2013</td>\n",
       "      <td>1</td>\n",
       "      <td>Tuesday</td>\n",
       "    </tr>\n",
       "    <tr>\n",
       "      <th>3</th>\n",
       "      <td>CS1217</td>\n",
       "      <td>99</td>\n",
       "      <td>2011-11-16</td>\n",
       "      <td>2011-11-30</td>\n",
       "      <td>2011</td>\n",
       "      <td>2</td>\n",
       "      <td>Wednesday</td>\n",
       "    </tr>\n",
       "    <tr>\n",
       "      <th>4</th>\n",
       "      <td>CS1850</td>\n",
       "      <td>78</td>\n",
       "      <td>2013-11-20</td>\n",
       "      <td>2013-11-30</td>\n",
       "      <td>2013</td>\n",
       "      <td>2</td>\n",
       "      <td>Wednesday</td>\n",
       "    </tr>\n",
       "  </tbody>\n",
       "</table>\n",
       "</div>"
      ],
      "text/plain": [
       "  customer_id  tran_amount   txn_date      ME_DT  YEAR  day_of_the_week  \\\n",
       "0      CS5295           35 2013-02-11 2013-02-28  2013                0   \n",
       "1      CS4768           39 2015-03-15 2015-03-31  2015                6   \n",
       "2      CS2122           52 2013-02-26 2013-02-28  2013                1   \n",
       "3      CS1217           99 2011-11-16 2011-11-30  2011                2   \n",
       "4      CS1850           78 2013-11-20 2013-11-30  2013                2   \n",
       "\n",
       "    day_name  \n",
       "0     Monday  \n",
       "1     Sunday  \n",
       "2    Tuesday  \n",
       "3  Wednesday  \n",
       "4  Wednesday  "
      ]
     },
     "execution_count": 106,
     "metadata": {},
     "output_type": "execute_result"
    }
   ],
   "source": [
    "txn['day_of_the_week'] = txn['txn_date'].dt.dayofweek\n",
    "txn['day_name'] = txn['txn_date'].dt.day_name()\n",
    "txn.head()"
   ]
  },
  {
   "cell_type": "code",
   "execution_count": null,
   "id": "ac9a732e",
   "metadata": {},
   "outputs": [],
   "source": [
    "# 2. Create the bar plot that shows the count of transactions per day of the week."
   ]
  },
  {
   "cell_type": "code",
   "execution_count": 126,
   "id": "dc472f4e",
   "metadata": {},
   "outputs": [
    {
     "data": {
      "image/png": "[encoded data removed]",
      "text/plain": [
       "<Figure size 432x288 with 1 Axes>"
      ]
     },
     "metadata": {
      "needs_background": "light"
     },
     "output_type": "display_data"
    }
   ],
   "source": [
    "pd162 = txn.groupby('day_name')['customer_id']\n",
    "pd162cnt = pd162.count()\n",
    "pd162cnt.plot.bar()\n",
    "plt.show()"
   ]
  },
  {
   "cell_type": "code",
   "execution_count": null,
   "id": "b161dfee",
   "metadata": {},
   "outputs": [],
   "source": [
    "# Following the same logic as in section 1.2, generate the features that capture the count\n",
    "# of transactions per client, year and day of the week. The intermediate MultiIndex\n",
    "# dataframe (with nlevels=3) and the final pivoted output with a single index are shown\n",
    "# in the snapshots below."
   ]
  },
  {
   "cell_type": "code",
   "execution_count": 133,
   "id": "c58c6c40",
   "metadata": {},
   "outputs": [
    {
     "data": {
      "text/html": [
       "<div>\n",
       "<style scoped>\n",
       "    .dataframe tbody tr th:only-of-type {\n",
       "        vertical-align: middle;\n",
       "    }\n",
       "\n",
       "    .dataframe tbody tr th {\n",
       "        vertical-align: top;\n",
       "    }\n",
       "\n",
       "    .dataframe thead th {\n",
       "        text-align: right;\n",
       "    }\n",
       "</style>\n",
       "<table border=\"1\" class=\"dataframe\">\n",
       "  <thead>\n",
       "    <tr style=\"text-align: right;\">\n",
       "      <th></th>\n",
       "      <th></th>\n",
       "      <th></th>\n",
       "      <th>cnt</th>\n",
       "    </tr>\n",
       "    <tr>\n",
       "      <th>customer_id</th>\n",
       "      <th>day_name</th>\n",
       "      <th>YEAR</th>\n",
       "      <th></th>\n",
       "    </tr>\n",
       "  </thead>\n",
       "  <tbody>\n",
       "    <tr>\n",
       "      <th rowspan=\"5\" valign=\"top\">CS1112</th>\n",
       "      <th rowspan=\"2\" valign=\"top\">Friday</th>\n",
       "      <th>2011</th>\n",
       "      <td>1</td>\n",
       "    </tr>\n",
       "    <tr>\n",
       "      <th>2013</th>\n",
       "      <td>1</td>\n",
       "    </tr>\n",
       "    <tr>\n",
       "      <th>Monday</th>\n",
       "      <th>2013</th>\n",
       "      <td>1</td>\n",
       "    </tr>\n",
       "    <tr>\n",
       "      <th>Saturday</th>\n",
       "      <th>2012</th>\n",
       "      <td>1</td>\n",
       "    </tr>\n",
       "    <tr>\n",
       "      <th>Sunday</th>\n",
       "      <th>2011</th>\n",
       "      <td>1</td>\n",
       "    </tr>\n",
       "  </tbody>\n",
       "</table>\n",
       "</div>"
      ],
      "text/plain": [
       "                           cnt\n",
       "customer_id day_name YEAR     \n",
       "CS1112      Friday   2011    1\n",
       "                     2013    1\n",
       "            Monday   2013    1\n",
       "            Saturday 2012    1\n",
       "            Sunday   2011    1"
      ]
     },
     "execution_count": 133,
     "metadata": {},
     "output_type": "execute_result"
    }
   ],
   "source": [
    "annual_day_of_week_counts = pd.DataFrame(txn.groupby(['customer_id', 'day_name', 'YEAR'])['tran_amount'].count())\n",
    "annual_day_of_week_counts.columns = ['cnt']\n",
    "annual_day_of_week_counts.head()"
   ]
  },
  {
   "cell_type": "code",
   "execution_count": 134,
   "id": "0ad19bc3",
   "metadata": {},
   "outputs": [
    {
     "data": {
      "text/html": [
       "<div>\n",
       "<style scoped>\n",
       "    .dataframe tbody tr th:only-of-type {\n",
       "        vertical-align: middle;\n",
       "    }\n",
       "\n",
       "    .dataframe tbody tr th {\n",
       "        vertical-align: top;\n",
       "    }\n",
       "\n",
       "    .dataframe thead tr th {\n",
       "        text-align: left;\n",
       "    }\n",
       "\n",
       "    .dataframe thead tr:last-of-type th {\n",
       "        text-align: right;\n",
       "    }\n",
       "</style>\n",
       "<table border=\"1\" class=\"dataframe\">\n",
       "  <thead>\n",
       "    <tr>\n",
       "      <th></th>\n",
       "      <th colspan=\"21\" halign=\"left\">cnt</th>\n",
       "    </tr>\n",
       "    <tr>\n",
       "      <th>YEAR</th>\n",
       "      <th colspan=\"7\" halign=\"left\">2011</th>\n",
       "      <th colspan=\"3\" halign=\"left\">2012</th>\n",
       "      <th>...</th>\n",
       "      <th colspan=\"3\" halign=\"left\">2014</th>\n",
       "      <th colspan=\"7\" halign=\"left\">2015</th>\n",
       "    </tr>\n",
       "    <tr>\n",
       "      <th>day_name</th>\n",
       "      <th>Friday</th>\n",
       "      <th>Monday</th>\n",
       "      <th>Saturday</th>\n",
       "      <th>Sunday</th>\n",
       "      <th>Thursday</th>\n",
       "      <th>Tuesday</th>\n",
       "      <th>Wednesday</th>\n",
       "      <th>Friday</th>\n",
       "      <th>Monday</th>\n",
       "      <th>Saturday</th>\n",
       "      <th>...</th>\n",
       "      <th>Thursday</th>\n",
       "      <th>Tuesday</th>\n",
       "      <th>Wednesday</th>\n",
       "      <th>Friday</th>\n",
       "      <th>Monday</th>\n",
       "      <th>Saturday</th>\n",
       "      <th>Sunday</th>\n",
       "      <th>Thursday</th>\n",
       "      <th>Tuesday</th>\n",
       "      <th>Wednesday</th>\n",
       "    </tr>\n",
       "    <tr>\n",
       "      <th>customer_id</th>\n",
       "      <th></th>\n",
       "      <th></th>\n",
       "      <th></th>\n",
       "      <th></th>\n",
       "      <th></th>\n",
       "      <th></th>\n",
       "      <th></th>\n",
       "      <th></th>\n",
       "      <th></th>\n",
       "      <th></th>\n",
       "      <th></th>\n",
       "      <th></th>\n",
       "      <th></th>\n",
       "      <th></th>\n",
       "      <th></th>\n",
       "      <th></th>\n",
       "      <th></th>\n",
       "      <th></th>\n",
       "      <th></th>\n",
       "      <th></th>\n",
       "      <th></th>\n",
       "    </tr>\n",
       "  </thead>\n",
       "  <tbody>\n",
       "    <tr>\n",
       "      <th>CS1112</th>\n",
       "      <td>1</td>\n",
       "      <td>0</td>\n",
       "      <td>0</td>\n",
       "      <td>1</td>\n",
       "      <td>0</td>\n",
       "      <td>0</td>\n",
       "      <td>1</td>\n",
       "      <td>0</td>\n",
       "      <td>0</td>\n",
       "      <td>1</td>\n",
       "      <td>...</td>\n",
       "      <td>1</td>\n",
       "      <td>1</td>\n",
       "      <td>1</td>\n",
       "      <td>0</td>\n",
       "      <td>0</td>\n",
       "      <td>0</td>\n",
       "      <td>0</td>\n",
       "      <td>0</td>\n",
       "      <td>0</td>\n",
       "      <td>1</td>\n",
       "    </tr>\n",
       "    <tr>\n",
       "      <th>CS1113</th>\n",
       "      <td>1</td>\n",
       "      <td>1</td>\n",
       "      <td>0</td>\n",
       "      <td>1</td>\n",
       "      <td>0</td>\n",
       "      <td>0</td>\n",
       "      <td>0</td>\n",
       "      <td>2</td>\n",
       "      <td>1</td>\n",
       "      <td>0</td>\n",
       "      <td>...</td>\n",
       "      <td>0</td>\n",
       "      <td>3</td>\n",
       "      <td>0</td>\n",
       "      <td>0</td>\n",
       "      <td>2</td>\n",
       "      <td>0</td>\n",
       "      <td>0</td>\n",
       "      <td>0</td>\n",
       "      <td>0</td>\n",
       "      <td>1</td>\n",
       "    </tr>\n",
       "    <tr>\n",
       "      <th>CS1114</th>\n",
       "      <td>0</td>\n",
       "      <td>1</td>\n",
       "      <td>0</td>\n",
       "      <td>1</td>\n",
       "      <td>1</td>\n",
       "      <td>0</td>\n",
       "      <td>2</td>\n",
       "      <td>0</td>\n",
       "      <td>0</td>\n",
       "      <td>1</td>\n",
       "      <td>...</td>\n",
       "      <td>0</td>\n",
       "      <td>1</td>\n",
       "      <td>1</td>\n",
       "      <td>0</td>\n",
       "      <td>0</td>\n",
       "      <td>0</td>\n",
       "      <td>0</td>\n",
       "      <td>1</td>\n",
       "      <td>0</td>\n",
       "      <td>0</td>\n",
       "    </tr>\n",
       "    <tr>\n",
       "      <th>CS1115</th>\n",
       "      <td>0</td>\n",
       "      <td>0</td>\n",
       "      <td>1</td>\n",
       "      <td>1</td>\n",
       "      <td>0</td>\n",
       "      <td>0</td>\n",
       "      <td>1</td>\n",
       "      <td>1</td>\n",
       "      <td>1</td>\n",
       "      <td>0</td>\n",
       "      <td>...</td>\n",
       "      <td>2</td>\n",
       "      <td>0</td>\n",
       "      <td>2</td>\n",
       "      <td>0</td>\n",
       "      <td>0</td>\n",
       "      <td>0</td>\n",
       "      <td>0</td>\n",
       "      <td>1</td>\n",
       "      <td>0</td>\n",
       "      <td>0</td>\n",
       "    </tr>\n",
       "    <tr>\n",
       "      <th>CS1116</th>\n",
       "      <td>1</td>\n",
       "      <td>1</td>\n",
       "      <td>0</td>\n",
       "      <td>0</td>\n",
       "      <td>1</td>\n",
       "      <td>1</td>\n",
       "      <td>0</td>\n",
       "      <td>1</td>\n",
       "      <td>0</td>\n",
       "      <td>0</td>\n",
       "      <td>...</td>\n",
       "      <td>0</td>\n",
       "      <td>0</td>\n",
       "      <td>0</td>\n",
       "      <td>0</td>\n",
       "      <td>0</td>\n",
       "      <td>0</td>\n",
       "      <td>0</td>\n",
       "      <td>0</td>\n",
       "      <td>0</td>\n",
       "      <td>0</td>\n",
       "    </tr>\n",
       "  </tbody>\n",
       "</table>\n",
       "<p>5 rows × 35 columns</p>\n",
       "</div>"
      ],
      "text/plain": [
       "               cnt                                                           \\\n",
       "YEAR          2011                                                     2012   \n",
       "day_name    Friday Monday Saturday Sunday Thursday Tuesday Wednesday Friday   \n",
       "customer_id                                                                   \n",
       "CS1112           1      0        0      1        0       0         1      0   \n",
       "CS1113           1      1        0      1        0       0         0      2   \n",
       "CS1114           0      1        0      1        1       0         2      0   \n",
       "CS1115           0      0        1      1        0       0         1      1   \n",
       "CS1116           1      1        0      0        1       1         0      1   \n",
       "\n",
       "                             ...                                           \\\n",
       "YEAR                         ...     2014                     2015          \n",
       "day_name    Monday Saturday  ... Thursday Tuesday Wednesday Friday Monday   \n",
       "customer_id                  ...                                            \n",
       "CS1112           0        1  ...        1       1         1      0      0   \n",
       "CS1113           1        0  ...        0       3         0      0      2   \n",
       "CS1114           0        1  ...        0       1         1      0      0   \n",
       "CS1115           1        0  ...        2       0         2      0      0   \n",
       "CS1116           0        0  ...        0       0         0      0      0   \n",
       "\n",
       "                                                        \n",
       "YEAR                                                    \n",
       "day_name    Saturday Sunday Thursday Tuesday Wednesday  \n",
       "customer_id                                             \n",
       "CS1112             0      0        0       0         1  \n",
       "CS1113             0      0        0       0         1  \n",
       "CS1114             0      0        1       0         0  \n",
       "CS1115             0      0        1       0         0  \n",
       "CS1116             0      0        0       0         0  \n",
       "\n",
       "[5 rows x 35 columns]"
      ]
     },
     "execution_count": 134,
     "metadata": {},
     "output_type": "execute_result"
    }
   ],
   "source": [
    "annual_day_of_week_counts_pivot = annual_day_of_week_counts.pivot_table(index = 'customer_id',columns=['YEAR','day_name']).fillna(0).astype(int)\n",
    "annual_day_of_week_counts_pivot.head()"
   ]
  },
  {
   "cell_type": "code",
   "execution_count": 135,
   "id": "b179421a",
   "metadata": {},
   "outputs": [],
   "source": [
    "level_0 = annual_day_of_week_counts_pivot.columns.get_level_values(0).astype(str)\n",
    "level_1 = annual_day_of_week_counts_pivot.columns.get_level_values(1).astype(str)\n",
    "level_2 = annual_day_of_week_counts_pivot.columns.get_level_values(2).astype(str)"
   ]
  },
  {
   "cell_type": "code",
   "execution_count": 136,
   "id": "cf4563ee",
   "metadata": {},
   "outputs": [
    {
     "data": {
      "text/html": [
       "<div>\n",
       "<style scoped>\n",
       "    .dataframe tbody tr th:only-of-type {\n",
       "        vertical-align: middle;\n",
       "    }\n",
       "\n",
       "    .dataframe tbody tr th {\n",
       "        vertical-align: top;\n",
       "    }\n",
       "\n",
       "    .dataframe thead th {\n",
       "        text-align: right;\n",
       "    }\n",
       "</style>\n",
       "<table border=\"1\" class=\"dataframe\">\n",
       "  <thead>\n",
       "    <tr style=\"text-align: right;\">\n",
       "      <th></th>\n",
       "      <th>cnt_2011_Friday</th>\n",
       "      <th>cnt_2011_Monday</th>\n",
       "      <th>cnt_2011_Saturday</th>\n",
       "      <th>cnt_2011_Sunday</th>\n",
       "      <th>cnt_2011_Thursday</th>\n",
       "      <th>cnt_2011_Tuesday</th>\n",
       "      <th>cnt_2011_Wednesday</th>\n",
       "      <th>cnt_2012_Friday</th>\n",
       "      <th>cnt_2012_Monday</th>\n",
       "      <th>cnt_2012_Saturday</th>\n",
       "      <th>...</th>\n",
       "      <th>cnt_2014_Thursday</th>\n",
       "      <th>cnt_2014_Tuesday</th>\n",
       "      <th>cnt_2014_Wednesday</th>\n",
       "      <th>cnt_2015_Friday</th>\n",
       "      <th>cnt_2015_Monday</th>\n",
       "      <th>cnt_2015_Saturday</th>\n",
       "      <th>cnt_2015_Sunday</th>\n",
       "      <th>cnt_2015_Thursday</th>\n",
       "      <th>cnt_2015_Tuesday</th>\n",
       "      <th>cnt_2015_Wednesday</th>\n",
       "    </tr>\n",
       "    <tr>\n",
       "      <th>customer_id</th>\n",
       "      <th></th>\n",
       "      <th></th>\n",
       "      <th></th>\n",
       "      <th></th>\n",
       "      <th></th>\n",
       "      <th></th>\n",
       "      <th></th>\n",
       "      <th></th>\n",
       "      <th></th>\n",
       "      <th></th>\n",
       "      <th></th>\n",
       "      <th></th>\n",
       "      <th></th>\n",
       "      <th></th>\n",
       "      <th></th>\n",
       "      <th></th>\n",
       "      <th></th>\n",
       "      <th></th>\n",
       "      <th></th>\n",
       "      <th></th>\n",
       "      <th></th>\n",
       "    </tr>\n",
       "  </thead>\n",
       "  <tbody>\n",
       "    <tr>\n",
       "      <th>CS1112</th>\n",
       "      <td>1</td>\n",
       "      <td>0</td>\n",
       "      <td>0</td>\n",
       "      <td>1</td>\n",
       "      <td>0</td>\n",
       "      <td>0</td>\n",
       "      <td>1</td>\n",
       "      <td>0</td>\n",
       "      <td>0</td>\n",
       "      <td>1</td>\n",
       "      <td>...</td>\n",
       "      <td>1</td>\n",
       "      <td>1</td>\n",
       "      <td>1</td>\n",
       "      <td>0</td>\n",
       "      <td>0</td>\n",
       "      <td>0</td>\n",
       "      <td>0</td>\n",
       "      <td>0</td>\n",
       "      <td>0</td>\n",
       "      <td>1</td>\n",
       "    </tr>\n",
       "    <tr>\n",
       "      <th>CS1113</th>\n",
       "      <td>1</td>\n",
       "      <td>1</td>\n",
       "      <td>0</td>\n",
       "      <td>1</td>\n",
       "      <td>0</td>\n",
       "      <td>0</td>\n",
       "      <td>0</td>\n",
       "      <td>2</td>\n",
       "      <td>1</td>\n",
       "      <td>0</td>\n",
       "      <td>...</td>\n",
       "      <td>0</td>\n",
       "      <td>3</td>\n",
       "      <td>0</td>\n",
       "      <td>0</td>\n",
       "      <td>2</td>\n",
       "      <td>0</td>\n",
       "      <td>0</td>\n",
       "      <td>0</td>\n",
       "      <td>0</td>\n",
       "      <td>1</td>\n",
       "    </tr>\n",
       "    <tr>\n",
       "      <th>CS1114</th>\n",
       "      <td>0</td>\n",
       "      <td>1</td>\n",
       "      <td>0</td>\n",
       "      <td>1</td>\n",
       "      <td>1</td>\n",
       "      <td>0</td>\n",
       "      <td>2</td>\n",
       "      <td>0</td>\n",
       "      <td>0</td>\n",
       "      <td>1</td>\n",
       "      <td>...</td>\n",
       "      <td>0</td>\n",
       "      <td>1</td>\n",
       "      <td>1</td>\n",
       "      <td>0</td>\n",
       "      <td>0</td>\n",
       "      <td>0</td>\n",
       "      <td>0</td>\n",
       "      <td>1</td>\n",
       "      <td>0</td>\n",
       "      <td>0</td>\n",
       "    </tr>\n",
       "    <tr>\n",
       "      <th>CS1115</th>\n",
       "      <td>0</td>\n",
       "      <td>0</td>\n",
       "      <td>1</td>\n",
       "      <td>1</td>\n",
       "      <td>0</td>\n",
       "      <td>0</td>\n",
       "      <td>1</td>\n",
       "      <td>1</td>\n",
       "      <td>1</td>\n",
       "      <td>0</td>\n",
       "      <td>...</td>\n",
       "      <td>2</td>\n",
       "      <td>0</td>\n",
       "      <td>2</td>\n",
       "      <td>0</td>\n",
       "      <td>0</td>\n",
       "      <td>0</td>\n",
       "      <td>0</td>\n",
       "      <td>1</td>\n",
       "      <td>0</td>\n",
       "      <td>0</td>\n",
       "    </tr>\n",
       "    <tr>\n",
       "      <th>CS1116</th>\n",
       "      <td>1</td>\n",
       "      <td>1</td>\n",
       "      <td>0</td>\n",
       "      <td>0</td>\n",
       "      <td>1</td>\n",
       "      <td>1</td>\n",
       "      <td>0</td>\n",
       "      <td>1</td>\n",
       "      <td>0</td>\n",
       "      <td>0</td>\n",
       "      <td>...</td>\n",
       "      <td>0</td>\n",
       "      <td>0</td>\n",
       "      <td>0</td>\n",
       "      <td>0</td>\n",
       "      <td>0</td>\n",
       "      <td>0</td>\n",
       "      <td>0</td>\n",
       "      <td>0</td>\n",
       "      <td>0</td>\n",
       "      <td>0</td>\n",
       "    </tr>\n",
       "  </tbody>\n",
       "</table>\n",
       "<p>5 rows × 35 columns</p>\n",
       "</div>"
      ],
      "text/plain": [
       "             cnt_2011_Friday  cnt_2011_Monday  cnt_2011_Saturday  \\\n",
       "customer_id                                                        \n",
       "CS1112                     1                0                  0   \n",
       "CS1113                     1                1                  0   \n",
       "CS1114                     0                1                  0   \n",
       "CS1115                     0                0                  1   \n",
       "CS1116                     1                1                  0   \n",
       "\n",
       "             cnt_2011_Sunday  cnt_2011_Thursday  cnt_2011_Tuesday  \\\n",
       "customer_id                                                         \n",
       "CS1112                     1                  0                 0   \n",
       "CS1113                     1                  0                 0   \n",
       "CS1114                     1                  1                 0   \n",
       "CS1115                     1                  0                 0   \n",
       "CS1116                     0                  1                 1   \n",
       "\n",
       "             cnt_2011_Wednesday  cnt_2012_Friday  cnt_2012_Monday  \\\n",
       "customer_id                                                         \n",
       "CS1112                        1                0                0   \n",
       "CS1113                        0                2                1   \n",
       "CS1114                        2                0                0   \n",
       "CS1115                        1                1                1   \n",
       "CS1116                        0                1                0   \n",
       "\n",
       "             cnt_2012_Saturday  ...  cnt_2014_Thursday  cnt_2014_Tuesday  \\\n",
       "customer_id                     ...                                        \n",
       "CS1112                       1  ...                  1                 1   \n",
       "CS1113                       0  ...                  0                 3   \n",
       "CS1114                       1  ...                  0                 1   \n",
       "CS1115                       0  ...                  2                 0   \n",
       "CS1116                       0  ...                  0                 0   \n",
       "\n",
       "             cnt_2014_Wednesday  cnt_2015_Friday  cnt_2015_Monday  \\\n",
       "customer_id                                                         \n",
       "CS1112                        1                0                0   \n",
       "CS1113                        0                0                2   \n",
       "CS1114                        1                0                0   \n",
       "CS1115                        2                0                0   \n",
       "CS1116                        0                0                0   \n",
       "\n",
       "             cnt_2015_Saturday  cnt_2015_Sunday  cnt_2015_Thursday  \\\n",
       "customer_id                                                          \n",
       "CS1112                       0                0                  0   \n",
       "CS1113                       0                0                  0   \n",
       "CS1114                       0                0                  1   \n",
       "CS1115                       0                0                  1   \n",
       "CS1116                       0                0                  0   \n",
       "\n",
       "             cnt_2015_Tuesday  cnt_2015_Wednesday  \n",
       "customer_id                                        \n",
       "CS1112                      0                   1  \n",
       "CS1113                      0                   1  \n",
       "CS1114                      0                   0  \n",
       "CS1115                      0                   0  \n",
       "CS1116                      0                   0  \n",
       "\n",
       "[5 rows x 35 columns]"
      ]
     },
     "execution_count": 136,
     "metadata": {},
     "output_type": "execute_result"
    }
   ],
   "source": [
    "annual_day_of_week_counts_pivot.columns = level_0 + '_' + level_1 + '_' + level_2\n",
    "annual_day_of_week_counts_pivot.head()"
   ]
  },
  {
   "cell_type": "code",
   "execution_count": 137,
   "id": "15cc4f71",
   "metadata": {},
   "outputs": [],
   "source": [
    "# 4 Confirm that your output has the same number of rows as the final output in section 1.2"
   ]
  },
  {
   "cell_type": "code",
   "execution_count": 142,
   "id": "bb4f6463",
   "metadata": {},
   "outputs": [
    {
     "data": {
      "text/plain": [
       "6889"
      ]
     },
     "execution_count": 142,
     "metadata": {},
     "output_type": "execute_result"
    }
   ],
   "source": [
    "annual_day_of_week_counts_pivot.shape[0]"
   ]
  },
  {
   "cell_type": "code",
   "execution_count": 141,
   "id": "76eac7cc",
   "metadata": {},
   "outputs": [
    {
     "data": {
      "text/plain": [
       "6889"
      ]
     },
     "execution_count": 141,
     "metadata": {},
     "output_type": "execute_result"
    }
   ],
   "source": [
    "# In sec 1.2\n",
    "clnt_annual_aggregations_pivot.shape[0]"
   ]
  },
  {
   "cell_type": "code",
   "execution_count": null,
   "id": "e58c25d1",
   "metadata": {},
   "outputs": [],
   "source": [
    "# and save it as annual day of week counts pivot.xlsx. "
   ]
  },
  {
   "cell_type": "code",
   "execution_count": null,
   "id": "d5e5a190",
   "metadata": {},
   "outputs": [],
   "source": [
    "annual_day_of_week_counts_pivot.to_excel('annual_day_of_week_counts_pivot.xlsx')"
   ]
  },
  {
   "cell_type": "code",
   "execution_count": 143,
   "id": "891872ad",
   "metadata": {},
   "outputs": [],
   "source": [
    "# How many features/columns did you create in this section?"
   ]
  },
  {
   "cell_type": "code",
   "execution_count": 144,
   "id": "a18ec0a2",
   "metadata": {},
   "outputs": [
    {
     "data": {
      "text/plain": [
       "35"
      ]
     },
     "execution_count": 144,
     "metadata": {},
     "output_type": "execute_result"
    }
   ],
   "source": [
    "annual_day_of_week_counts_pivot.shape[1]\n",
    "# 35 columns"
   ]
  },
  {
   "cell_type": "code",
   "execution_count": 145,
   "id": "b114ca48",
   "metadata": {},
   "outputs": [],
   "source": [
    "# 5. Similarly, generate the features that capture the count of transactions per client,\n",
    "# month-end-date and day of the week. In contrast with the annual pivot table in\n",
    "# the previous step, here you want to create the pivot with [’customer id’, ’ME DT’] as\n",
    "# index to obtain the following output dataframe."
   ]
  },
  {
   "cell_type": "code",
   "execution_count": 151,
   "id": "7a2b0b4a",
   "metadata": {},
   "outputs": [
    {
     "data": {
      "text/html": [
       "<div>\n",
       "<style scoped>\n",
       "    .dataframe tbody tr th:only-of-type {\n",
       "        vertical-align: middle;\n",
       "    }\n",
       "\n",
       "    .dataframe tbody tr th {\n",
       "        vertical-align: top;\n",
       "    }\n",
       "\n",
       "    .dataframe thead th {\n",
       "        text-align: right;\n",
       "    }\n",
       "</style>\n",
       "<table border=\"1\" class=\"dataframe\">\n",
       "  <thead>\n",
       "    <tr style=\"text-align: right;\">\n",
       "      <th></th>\n",
       "      <th></th>\n",
       "      <th></th>\n",
       "      <th>cnt</th>\n",
       "    </tr>\n",
       "    <tr>\n",
       "      <th>customer_id</th>\n",
       "      <th>ME_DT</th>\n",
       "      <th>day_name</th>\n",
       "      <th></th>\n",
       "    </tr>\n",
       "  </thead>\n",
       "  <tbody>\n",
       "    <tr>\n",
       "      <th rowspan=\"5\" valign=\"top\">CS1112</th>\n",
       "      <th>2011-06-30</th>\n",
       "      <th>Wednesday</th>\n",
       "      <td>1</td>\n",
       "    </tr>\n",
       "    <tr>\n",
       "      <th>2011-08-31</th>\n",
       "      <th>Friday</th>\n",
       "      <td>1</td>\n",
       "    </tr>\n",
       "    <tr>\n",
       "      <th>2011-10-31</th>\n",
       "      <th>Sunday</th>\n",
       "      <td>1</td>\n",
       "    </tr>\n",
       "    <tr>\n",
       "      <th>2012-04-30</th>\n",
       "      <th>Sunday</th>\n",
       "      <td>1</td>\n",
       "    </tr>\n",
       "    <tr>\n",
       "      <th>2012-06-30</th>\n",
       "      <th>Sunday</th>\n",
       "      <td>1</td>\n",
       "    </tr>\n",
       "  </tbody>\n",
       "</table>\n",
       "</div>"
      ],
      "text/plain": [
       "                                  cnt\n",
       "customer_id ME_DT      day_name      \n",
       "CS1112      2011-06-30 Wednesday    1\n",
       "            2011-08-31 Friday       1\n",
       "            2011-10-31 Sunday       1\n",
       "            2012-04-30 Sunday       1\n",
       "            2012-06-30 Sunday       1"
      ]
     },
     "execution_count": 151,
     "metadata": {},
     "output_type": "execute_result"
    }
   ],
   "source": [
    "last_day = pd.DataFrame(txn.groupby([\"customer_id\" ,\"ME_DT\",\"day_name\"]).count()[\"tran_amount\"])\n",
    "last_day.columns = [\"cnt\"]\n",
    "last_day.head()"
   ]
  },
  {
   "cell_type": "code",
   "execution_count": 153,
   "id": "1ad0c138",
   "metadata": {},
   "outputs": [
    {
     "data": {
      "text/html": [
       "<div>\n",
       "<style scoped>\n",
       "    .dataframe tbody tr th:only-of-type {\n",
       "        vertical-align: middle;\n",
       "    }\n",
       "\n",
       "    .dataframe tbody tr th {\n",
       "        vertical-align: top;\n",
       "    }\n",
       "\n",
       "    .dataframe thead th {\n",
       "        text-align: right;\n",
       "    }\n",
       "</style>\n",
       "<table border=\"1\" class=\"dataframe\">\n",
       "  <thead>\n",
       "    <tr style=\"text-align: right;\">\n",
       "      <th></th>\n",
       "      <th></th>\n",
       "      <th>cnt_Friday</th>\n",
       "      <th>cnt_Monday</th>\n",
       "      <th>cnt_Saturday</th>\n",
       "      <th>cnt_Sunday</th>\n",
       "      <th>cnt_Thursday</th>\n",
       "      <th>cnt_Tuesday</th>\n",
       "      <th>cnt_Wednesday</th>\n",
       "    </tr>\n",
       "    <tr>\n",
       "      <th>customer_id</th>\n",
       "      <th>ME_DT</th>\n",
       "      <th></th>\n",
       "      <th></th>\n",
       "      <th></th>\n",
       "      <th></th>\n",
       "      <th></th>\n",
       "      <th></th>\n",
       "      <th></th>\n",
       "    </tr>\n",
       "  </thead>\n",
       "  <tbody>\n",
       "    <tr>\n",
       "      <th rowspan=\"5\" valign=\"top\">CS1112</th>\n",
       "      <th>2011-06-30</th>\n",
       "      <td>0</td>\n",
       "      <td>0</td>\n",
       "      <td>0</td>\n",
       "      <td>0</td>\n",
       "      <td>0</td>\n",
       "      <td>0</td>\n",
       "      <td>1</td>\n",
       "    </tr>\n",
       "    <tr>\n",
       "      <th>2011-08-31</th>\n",
       "      <td>1</td>\n",
       "      <td>0</td>\n",
       "      <td>0</td>\n",
       "      <td>0</td>\n",
       "      <td>0</td>\n",
       "      <td>0</td>\n",
       "      <td>0</td>\n",
       "    </tr>\n",
       "    <tr>\n",
       "      <th>2011-10-31</th>\n",
       "      <td>0</td>\n",
       "      <td>0</td>\n",
       "      <td>0</td>\n",
       "      <td>1</td>\n",
       "      <td>0</td>\n",
       "      <td>0</td>\n",
       "      <td>0</td>\n",
       "    </tr>\n",
       "    <tr>\n",
       "      <th>2012-04-30</th>\n",
       "      <td>0</td>\n",
       "      <td>0</td>\n",
       "      <td>0</td>\n",
       "      <td>1</td>\n",
       "      <td>0</td>\n",
       "      <td>0</td>\n",
       "      <td>0</td>\n",
       "    </tr>\n",
       "    <tr>\n",
       "      <th>2012-06-30</th>\n",
       "      <td>0</td>\n",
       "      <td>0</td>\n",
       "      <td>0</td>\n",
       "      <td>1</td>\n",
       "      <td>0</td>\n",
       "      <td>0</td>\n",
       "      <td>0</td>\n",
       "    </tr>\n",
       "  </tbody>\n",
       "</table>\n",
       "</div>"
      ],
      "text/plain": [
       "                        cnt_Friday  cnt_Monday  cnt_Saturday  cnt_Sunday  \\\n",
       "customer_id ME_DT                                                          \n",
       "CS1112      2011-06-30           0           0             0           0   \n",
       "            2011-08-31           1           0             0           0   \n",
       "            2011-10-31           0           0             0           1   \n",
       "            2012-04-30           0           0             0           1   \n",
       "            2012-06-30           0           0             0           1   \n",
       "\n",
       "                        cnt_Thursday  cnt_Tuesday  cnt_Wednesday  \n",
       "customer_id ME_DT                                                 \n",
       "CS1112      2011-06-30             0            0              1  \n",
       "            2011-08-31             0            0              0  \n",
       "            2011-10-31             0            0              0  \n",
       "            2012-04-30             0            0              0  \n",
       "            2012-06-30             0            0              0  "
      ]
     },
     "execution_count": 153,
     "metadata": {},
     "output_type": "execute_result"
    }
   ],
   "source": [
    "last_day_pivot = last_day.pivot_table(index=['customer_id','ME_DT'],columns=[\"day_name\"]).fillna(0).astype(int)\n",
    "level_0 = last_day_pivot.columns.get_level_values(0).astype(str)\n",
    "level_1 = last_day_pivot.columns.get_level_values(1).astype(str)\n",
    "last_day_pivot.columns = level_0 + '_' + level_1\n",
    "last_day_pivot.head()"
   ]
  },
  {
   "cell_type": "code",
   "execution_count": 154,
   "id": "4c4a8bbe",
   "metadata": {},
   "outputs": [],
   "source": [
    "# 6. Join with base table pd as you did in section 1.5 and impute with your choice of\n",
    "# value for NaN. Save the final output as mth day counts.xlxs."
   ]
  },
  {
   "cell_type": "code",
   "execution_count": 157,
   "id": "4a1759f3",
   "metadata": {},
   "outputs": [
    {
     "data": {
      "text/html": [
       "<div>\n",
       "<style scoped>\n",
       "    .dataframe tbody tr th:only-of-type {\n",
       "        vertical-align: middle;\n",
       "    }\n",
       "\n",
       "    .dataframe tbody tr th {\n",
       "        vertical-align: top;\n",
       "    }\n",
       "\n",
       "    .dataframe thead th {\n",
       "        text-align: right;\n",
       "    }\n",
       "</style>\n",
       "<table border=\"1\" class=\"dataframe\">\n",
       "  <thead>\n",
       "    <tr style=\"text-align: right;\">\n",
       "      <th></th>\n",
       "      <th>CLNT_NO</th>\n",
       "      <th>ME_DT</th>\n",
       "      <th>cnt_Friday</th>\n",
       "      <th>cnt_Monday</th>\n",
       "      <th>cnt_Saturday</th>\n",
       "      <th>cnt_Sunday</th>\n",
       "      <th>cnt_Thursday</th>\n",
       "      <th>cnt_Tuesday</th>\n",
       "      <th>cnt_Wednesday</th>\n",
       "    </tr>\n",
       "  </thead>\n",
       "  <tbody>\n",
       "    <tr>\n",
       "      <th>0</th>\n",
       "      <td>CS5295</td>\n",
       "      <td>2013-02-28</td>\n",
       "      <td>0.0</td>\n",
       "      <td>1.0</td>\n",
       "      <td>0.0</td>\n",
       "      <td>0.0</td>\n",
       "      <td>0.0</td>\n",
       "      <td>0.0</td>\n",
       "      <td>0.0</td>\n",
       "    </tr>\n",
       "    <tr>\n",
       "      <th>1</th>\n",
       "      <td>CS5295</td>\n",
       "      <td>2015-03-31</td>\n",
       "      <td>NaN</td>\n",
       "      <td>NaN</td>\n",
       "      <td>NaN</td>\n",
       "      <td>NaN</td>\n",
       "      <td>NaN</td>\n",
       "      <td>NaN</td>\n",
       "      <td>NaN</td>\n",
       "    </tr>\n",
       "    <tr>\n",
       "      <th>2</th>\n",
       "      <td>CS5295</td>\n",
       "      <td>2011-11-30</td>\n",
       "      <td>0.0</td>\n",
       "      <td>1.0</td>\n",
       "      <td>0.0</td>\n",
       "      <td>0.0</td>\n",
       "      <td>0.0</td>\n",
       "      <td>0.0</td>\n",
       "      <td>1.0</td>\n",
       "    </tr>\n",
       "    <tr>\n",
       "      <th>3</th>\n",
       "      <td>CS5295</td>\n",
       "      <td>2013-11-30</td>\n",
       "      <td>NaN</td>\n",
       "      <td>NaN</td>\n",
       "      <td>NaN</td>\n",
       "      <td>NaN</td>\n",
       "      <td>NaN</td>\n",
       "      <td>NaN</td>\n",
       "      <td>NaN</td>\n",
       "    </tr>\n",
       "    <tr>\n",
       "      <th>4</th>\n",
       "      <td>CS5295</td>\n",
       "      <td>2014-03-31</td>\n",
       "      <td>NaN</td>\n",
       "      <td>NaN</td>\n",
       "      <td>NaN</td>\n",
       "      <td>NaN</td>\n",
       "      <td>NaN</td>\n",
       "      <td>NaN</td>\n",
       "      <td>NaN</td>\n",
       "    </tr>\n",
       "  </tbody>\n",
       "</table>\n",
       "</div>"
      ],
      "text/plain": [
       "  CLNT_NO      ME_DT  cnt_Friday  cnt_Monday  cnt_Saturday  cnt_Sunday  \\\n",
       "0  CS5295 2013-02-28         0.0         1.0           0.0         0.0   \n",
       "1  CS5295 2015-03-31         NaN         NaN           NaN         NaN   \n",
       "2  CS5295 2011-11-30         0.0         1.0           0.0         0.0   \n",
       "3  CS5295 2013-11-30         NaN         NaN           NaN         NaN   \n",
       "4  CS5295 2014-03-31         NaN         NaN           NaN         NaN   \n",
       "\n",
       "   cnt_Thursday  cnt_Tuesday  cnt_Wednesday  \n",
       "0           0.0          0.0            0.0  \n",
       "1           NaN          NaN            NaN  \n",
       "2           0.0          0.0            1.0  \n",
       "3           NaN          NaN            NaN  \n",
       "4           NaN          NaN            NaN  "
      ]
     },
     "execution_count": 157,
     "metadata": {},
     "output_type": "execute_result"
    }
   ],
   "source": [
    "mth_day_counts = base_table_pd.join(last_day_counts_pivot, on=['CLNT_NO','ME_DT'], how='left')\n",
    "mth_day_counts.head()"
   ]
  },
  {
   "cell_type": "code",
   "execution_count": 159,
   "id": "e260312c",
   "metadata": {},
   "outputs": [
    {
     "data": {
      "text/html": [
       "<div>\n",
       "<style scoped>\n",
       "    .dataframe tbody tr th:only-of-type {\n",
       "        vertical-align: middle;\n",
       "    }\n",
       "\n",
       "    .dataframe tbody tr th {\n",
       "        vertical-align: top;\n",
       "    }\n",
       "\n",
       "    .dataframe thead th {\n",
       "        text-align: right;\n",
       "    }\n",
       "</style>\n",
       "<table border=\"1\" class=\"dataframe\">\n",
       "  <thead>\n",
       "    <tr style=\"text-align: right;\">\n",
       "      <th></th>\n",
       "      <th>CLNT_NO</th>\n",
       "      <th>ME_DT</th>\n",
       "      <th>cnt_Friday</th>\n",
       "      <th>cnt_Monday</th>\n",
       "      <th>cnt_Saturday</th>\n",
       "      <th>cnt_Sunday</th>\n",
       "      <th>cnt_Thursday</th>\n",
       "      <th>cnt_Tuesday</th>\n",
       "      <th>cnt_Wednesday</th>\n",
       "    </tr>\n",
       "  </thead>\n",
       "  <tbody>\n",
       "    <tr>\n",
       "      <th>0</th>\n",
       "      <td>CS5295</td>\n",
       "      <td>2013-02-28</td>\n",
       "      <td>0.0</td>\n",
       "      <td>1.0</td>\n",
       "      <td>0.0</td>\n",
       "      <td>0.0</td>\n",
       "      <td>0.0</td>\n",
       "      <td>0.0</td>\n",
       "      <td>0.0</td>\n",
       "    </tr>\n",
       "    <tr>\n",
       "      <th>1</th>\n",
       "      <td>CS5295</td>\n",
       "      <td>2015-03-31</td>\n",
       "      <td>0.0</td>\n",
       "      <td>0.0</td>\n",
       "      <td>0.0</td>\n",
       "      <td>0.0</td>\n",
       "      <td>0.0</td>\n",
       "      <td>0.0</td>\n",
       "      <td>0.0</td>\n",
       "    </tr>\n",
       "    <tr>\n",
       "      <th>2</th>\n",
       "      <td>CS5295</td>\n",
       "      <td>2011-11-30</td>\n",
       "      <td>0.0</td>\n",
       "      <td>1.0</td>\n",
       "      <td>0.0</td>\n",
       "      <td>0.0</td>\n",
       "      <td>0.0</td>\n",
       "      <td>0.0</td>\n",
       "      <td>1.0</td>\n",
       "    </tr>\n",
       "    <tr>\n",
       "      <th>3</th>\n",
       "      <td>CS5295</td>\n",
       "      <td>2013-11-30</td>\n",
       "      <td>0.0</td>\n",
       "      <td>0.0</td>\n",
       "      <td>0.0</td>\n",
       "      <td>0.0</td>\n",
       "      <td>0.0</td>\n",
       "      <td>0.0</td>\n",
       "      <td>0.0</td>\n",
       "    </tr>\n",
       "    <tr>\n",
       "      <th>4</th>\n",
       "      <td>CS5295</td>\n",
       "      <td>2014-03-31</td>\n",
       "      <td>0.0</td>\n",
       "      <td>0.0</td>\n",
       "      <td>0.0</td>\n",
       "      <td>0.0</td>\n",
       "      <td>0.0</td>\n",
       "      <td>0.0</td>\n",
       "      <td>0.0</td>\n",
       "    </tr>\n",
       "  </tbody>\n",
       "</table>\n",
       "</div>"
      ],
      "text/plain": [
       "  CLNT_NO      ME_DT  cnt_Friday  cnt_Monday  cnt_Saturday  cnt_Sunday  \\\n",
       "0  CS5295 2013-02-28         0.0         1.0           0.0         0.0   \n",
       "1  CS5295 2015-03-31         0.0         0.0           0.0         0.0   \n",
       "2  CS5295 2011-11-30         0.0         1.0           0.0         0.0   \n",
       "3  CS5295 2013-11-30         0.0         0.0           0.0         0.0   \n",
       "4  CS5295 2014-03-31         0.0         0.0           0.0         0.0   \n",
       "\n",
       "   cnt_Thursday  cnt_Tuesday  cnt_Wednesday  \n",
       "0           0.0          0.0            0.0  \n",
       "1           0.0          0.0            0.0  \n",
       "2           0.0          0.0            1.0  \n",
       "3           0.0          0.0            0.0  \n",
       "4           0.0          0.0            0.0  "
      ]
     },
     "execution_count": 159,
     "metadata": {},
     "output_type": "execute_result"
    }
   ],
   "source": [
    "mth_day_counts = mth_day_counts.fillna(0)\n",
    "mth_day_counts.head()"
   ]
  },
  {
   "cell_type": "code",
   "execution_count": 160,
   "id": "3e3ba9a6",
   "metadata": {},
   "outputs": [],
   "source": [
    "mth_day_counts.to_excel(\"mth_day_counts.xlsx\")"
   ]
  },
  {
   "cell_type": "code",
   "execution_count": 161,
   "id": "ee862553",
   "metadata": {},
   "outputs": [],
   "source": [
    "# 1.7 Date-related features: days since last transaction"
   ]
  },
  {
   "cell_type": "code",
   "execution_count": 163,
   "id": "b819a726",
   "metadata": {},
   "outputs": [],
   "source": [
    "# 1. The starting point is again the txn table. Recall that most clients have a single\n",
    "# purchase per month, but some clients have multiple purchases in a month. Since\n",
    "# you want to calculate the ”days since last transaction”, you want to capture the last\n",
    "# transaction in a month for every client.\n",
    "# Use the appropriate groupby to create the table last monthly purchase that cap-\n",
    "# tures the last ’txn date’ (aggfunc=max) for every client and month."
   ]
  },
  {
   "cell_type": "code",
   "execution_count": 165,
   "id": "56079205",
   "metadata": {},
   "outputs": [
    {
     "data": {
      "text/html": [
       "<div>\n",
       "<style scoped>\n",
       "    .dataframe tbody tr th:only-of-type {\n",
       "        vertical-align: middle;\n",
       "    }\n",
       "\n",
       "    .dataframe tbody tr th {\n",
       "        vertical-align: top;\n",
       "    }\n",
       "\n",
       "    .dataframe thead th {\n",
       "        text-align: right;\n",
       "    }\n",
       "</style>\n",
       "<table border=\"1\" class=\"dataframe\">\n",
       "  <thead>\n",
       "    <tr style=\"text-align: right;\">\n",
       "      <th></th>\n",
       "      <th></th>\n",
       "      <th>last_monthly_purchase</th>\n",
       "    </tr>\n",
       "    <tr>\n",
       "      <th>customer_id</th>\n",
       "      <th>ME_DT</th>\n",
       "      <th></th>\n",
       "    </tr>\n",
       "  </thead>\n",
       "  <tbody>\n",
       "    <tr>\n",
       "      <th rowspan=\"5\" valign=\"top\">CS1112</th>\n",
       "      <th>2011-06-30</th>\n",
       "      <td>2011-06-15</td>\n",
       "    </tr>\n",
       "    <tr>\n",
       "      <th>2011-08-31</th>\n",
       "      <td>2011-08-19</td>\n",
       "    </tr>\n",
       "    <tr>\n",
       "      <th>2011-10-31</th>\n",
       "      <td>2011-10-02</td>\n",
       "    </tr>\n",
       "    <tr>\n",
       "      <th>2012-04-30</th>\n",
       "      <td>2012-04-08</td>\n",
       "    </tr>\n",
       "    <tr>\n",
       "      <th>2012-06-30</th>\n",
       "      <td>2012-06-24</td>\n",
       "    </tr>\n",
       "  </tbody>\n",
       "</table>\n",
       "</div>"
      ],
      "text/plain": [
       "                       last_monthly_purchase\n",
       "customer_id ME_DT                           \n",
       "CS1112      2011-06-30            2011-06-15\n",
       "            2011-08-31            2011-08-19\n",
       "            2011-10-31            2011-10-02\n",
       "            2012-04-30            2012-04-08\n",
       "            2012-06-30            2012-06-24"
      ]
     },
     "execution_count": 165,
     "metadata": {},
     "output_type": "execute_result"
    }
   ],
   "source": [
    "last_monthly_purchase = txn.groupby(['customer_id','ME_DT']).agg(last_monthly_purchase = pd.NamedAgg('txn_date','max'))\n",
    "last_monthly_purchase.head()"
   ]
  },
  {
   "cell_type": "code",
   "execution_count": 166,
   "id": "c6a8aeeb",
   "metadata": {},
   "outputs": [],
   "source": [
    "# 2. Join base table pd with last monthly purchase as you did in section 1.5."
   ]
  },
  {
   "cell_type": "code",
   "execution_count": 168,
   "id": "c171a465",
   "metadata": {},
   "outputs": [
    {
     "data": {
      "text/html": [
       "<div>\n",
       "<style scoped>\n",
       "    .dataframe tbody tr th:only-of-type {\n",
       "        vertical-align: middle;\n",
       "    }\n",
       "\n",
       "    .dataframe tbody tr th {\n",
       "        vertical-align: top;\n",
       "    }\n",
       "\n",
       "    .dataframe thead th {\n",
       "        text-align: right;\n",
       "    }\n",
       "</style>\n",
       "<table border=\"1\" class=\"dataframe\">\n",
       "  <thead>\n",
       "    <tr style=\"text-align: right;\">\n",
       "      <th></th>\n",
       "      <th>CLNT_NO</th>\n",
       "      <th>ME_DT</th>\n",
       "      <th>last_monthly_purchase</th>\n",
       "    </tr>\n",
       "  </thead>\n",
       "  <tbody>\n",
       "    <tr>\n",
       "      <th>157064</th>\n",
       "      <td>CS1112</td>\n",
       "      <td>2011-05-31</td>\n",
       "      <td>NaT</td>\n",
       "    </tr>\n",
       "    <tr>\n",
       "      <th>157058</th>\n",
       "      <td>CS1112</td>\n",
       "      <td>2011-06-30</td>\n",
       "      <td>2011-06-15</td>\n",
       "    </tr>\n",
       "    <tr>\n",
       "      <th>157044</th>\n",
       "      <td>CS1112</td>\n",
       "      <td>2011-07-31</td>\n",
       "      <td>NaT</td>\n",
       "    </tr>\n",
       "    <tr>\n",
       "      <th>157069</th>\n",
       "      <td>CS1112</td>\n",
       "      <td>2011-08-31</td>\n",
       "      <td>2011-08-19</td>\n",
       "    </tr>\n",
       "    <tr>\n",
       "      <th>157060</th>\n",
       "      <td>CS1112</td>\n",
       "      <td>2011-09-30</td>\n",
       "      <td>NaT</td>\n",
       "    </tr>\n",
       "  </tbody>\n",
       "</table>\n",
       "</div>"
      ],
      "text/plain": [
       "       CLNT_NO      ME_DT last_monthly_purchase\n",
       "157064  CS1112 2011-05-31                   NaT\n",
       "157058  CS1112 2011-06-30            2011-06-15\n",
       "157044  CS1112 2011-07-31                   NaT\n",
       "157069  CS1112 2011-08-31            2011-08-19\n",
       "157060  CS1112 2011-09-30                   NaT"
      ]
     },
     "execution_count": 168,
     "metadata": {},
     "output_type": "execute_result"
    }
   ],
   "source": [
    "last_monthly_purchase_base = base_table_pd.join(last_monthly_purchase, on = ['CLNT_NO', 'ME_DT'], how = 'left')\n",
    "last_monthly_purchase_base.sort_values(['CLNT_NO','ME_DT'], ascending = True, inplace = True)\n",
    "last_monthly_purchase_base.head()"
   ]
  },
  {
   "cell_type": "code",
   "execution_count": 169,
   "id": "24f9ff85",
   "metadata": {},
   "outputs": [],
   "source": [
    "# What values will you use to impute the NaT values here? NaT stands for ”Not a Timestamp”."
   ]
  },
  {
   "cell_type": "markdown",
   "id": "f91d1a34",
   "metadata": {},
   "source": [
    "I impute the NaT values with the last entry of it in last_monthly_purchase column. \n",
    "Since last_monthly_purchase column shows the date of last purchase in the same month of ME_DT of same row."
   ]
  },
  {
   "cell_type": "code",
   "execution_count": 171,
   "id": "e0e168b7",
   "metadata": {},
   "outputs": [
    {
     "data": {
      "text/html": [
       "<div>\n",
       "<style scoped>\n",
       "    .dataframe tbody tr th:only-of-type {\n",
       "        vertical-align: middle;\n",
       "    }\n",
       "\n",
       "    .dataframe tbody tr th {\n",
       "        vertical-align: top;\n",
       "    }\n",
       "\n",
       "    .dataframe thead th {\n",
       "        text-align: right;\n",
       "    }\n",
       "</style>\n",
       "<table border=\"1\" class=\"dataframe\">\n",
       "  <thead>\n",
       "    <tr style=\"text-align: right;\">\n",
       "      <th></th>\n",
       "      <th>CLNT_NO</th>\n",
       "      <th>ME_DT</th>\n",
       "      <th>last_monthly_purchase</th>\n",
       "    </tr>\n",
       "  </thead>\n",
       "  <tbody>\n",
       "    <tr>\n",
       "      <th>157064</th>\n",
       "      <td>CS1112</td>\n",
       "      <td>2011-05-31</td>\n",
       "      <td>NaT</td>\n",
       "    </tr>\n",
       "    <tr>\n",
       "      <th>157058</th>\n",
       "      <td>CS1112</td>\n",
       "      <td>2011-06-30</td>\n",
       "      <td>2011-06-15</td>\n",
       "    </tr>\n",
       "    <tr>\n",
       "      <th>157044</th>\n",
       "      <td>CS1112</td>\n",
       "      <td>2011-07-31</td>\n",
       "      <td>2011-06-15</td>\n",
       "    </tr>\n",
       "    <tr>\n",
       "      <th>157069</th>\n",
       "      <td>CS1112</td>\n",
       "      <td>2011-08-31</td>\n",
       "      <td>2011-08-19</td>\n",
       "    </tr>\n",
       "    <tr>\n",
       "      <th>157060</th>\n",
       "      <td>CS1112</td>\n",
       "      <td>2011-09-30</td>\n",
       "      <td>2011-08-19</td>\n",
       "    </tr>\n",
       "  </tbody>\n",
       "</table>\n",
       "</div>"
      ],
      "text/plain": [
       "       CLNT_NO      ME_DT last_monthly_purchase\n",
       "157064  CS1112 2011-05-31                   NaT\n",
       "157058  CS1112 2011-06-30            2011-06-15\n",
       "157044  CS1112 2011-07-31            2011-06-15\n",
       "157069  CS1112 2011-08-31            2011-08-19\n",
       "157060  CS1112 2011-09-30            2011-08-19"
      ]
     },
     "execution_count": 171,
     "metadata": {},
     "output_type": "execute_result"
    }
   ],
   "source": [
    "# 3\n",
    "last_monthly_purchase_base = last_monthly_purchase_base.groupby(['CLNT_NO']).apply(lambda x: x.ffill())\n",
    "last_monthly_purchase_base.head()"
   ]
  },
  {
   "cell_type": "code",
   "execution_count": null,
   "id": "61d4a0fe",
   "metadata": {},
   "outputs": [],
   "source": [
    "# 4. Subtract the two date columns and convert the output to .dt.days to calculate the\n",
    "# column ’days since last txn’ as shown in the following snapshot."
   ]
  },
  {
   "cell_type": "code",
   "execution_count": 181,
   "id": "a6ee1d54",
   "metadata": {},
   "outputs": [
    {
     "data": {
      "text/html": [
       "<div>\n",
       "<style scoped>\n",
       "    .dataframe tbody tr th:only-of-type {\n",
       "        vertical-align: middle;\n",
       "    }\n",
       "\n",
       "    .dataframe tbody tr th {\n",
       "        vertical-align: top;\n",
       "    }\n",
       "\n",
       "    .dataframe thead th {\n",
       "        text-align: right;\n",
       "    }\n",
       "</style>\n",
       "<table border=\"1\" class=\"dataframe\">\n",
       "  <thead>\n",
       "    <tr style=\"text-align: right;\">\n",
       "      <th></th>\n",
       "      <th>CLNT_NO</th>\n",
       "      <th>ME_DT</th>\n",
       "      <th>last_monthly_purchase</th>\n",
       "      <th>days_since_last_txn</th>\n",
       "    </tr>\n",
       "  </thead>\n",
       "  <tbody>\n",
       "    <tr>\n",
       "      <th>157064</th>\n",
       "      <td>CS1112</td>\n",
       "      <td>2011-05-31</td>\n",
       "      <td>NaT</td>\n",
       "      <td>NaN</td>\n",
       "    </tr>\n",
       "    <tr>\n",
       "      <th>157058</th>\n",
       "      <td>CS1112</td>\n",
       "      <td>2011-06-30</td>\n",
       "      <td>2011-06-15</td>\n",
       "      <td>15.0</td>\n",
       "    </tr>\n",
       "    <tr>\n",
       "      <th>157044</th>\n",
       "      <td>CS1112</td>\n",
       "      <td>2011-07-31</td>\n",
       "      <td>2011-06-15</td>\n",
       "      <td>46.0</td>\n",
       "    </tr>\n",
       "    <tr>\n",
       "      <th>157069</th>\n",
       "      <td>CS1112</td>\n",
       "      <td>2011-08-31</td>\n",
       "      <td>2011-08-19</td>\n",
       "      <td>12.0</td>\n",
       "    </tr>\n",
       "    <tr>\n",
       "      <th>157060</th>\n",
       "      <td>CS1112</td>\n",
       "      <td>2011-09-30</td>\n",
       "      <td>2011-08-19</td>\n",
       "      <td>42.0</td>\n",
       "    </tr>\n",
       "  </tbody>\n",
       "</table>\n",
       "</div>"
      ],
      "text/plain": [
       "       CLNT_NO      ME_DT last_monthly_purchase  days_since_last_txn\n",
       "157064  CS1112 2011-05-31                   NaT                  NaN\n",
       "157058  CS1112 2011-06-30            2011-06-15                 15.0\n",
       "157044  CS1112 2011-07-31            2011-06-15                 46.0\n",
       "157069  CS1112 2011-08-31            2011-08-19                 12.0\n",
       "157060  CS1112 2011-09-30            2011-08-19                 42.0"
      ]
     },
     "execution_count": 181,
     "metadata": {},
     "output_type": "execute_result"
    }
   ],
   "source": [
    "last_monthly_purchase_base['days_since_last_txn'] = (last_monthly_purchase_base['ME_DT'] - last_monthly_purchase_base['last_monthly_purchase']).dt.days\n",
    "last_monthly_purchase_base.head()"
   ]
  },
  {
   "cell_type": "code",
   "execution_count": null,
   "id": "28f75c5e",
   "metadata": {},
   "outputs": [],
   "source": [
    "# 5. Plot a histogram of the ’days since last txn’."
   ]
  },
  {
   "cell_type": "code",
   "execution_count": 177,
   "id": "8de2aba7",
   "metadata": {},
   "outputs": [
    {
     "data": {
      "image/png": "[encoded data removed]",
      "text/plain": [
       "<Figure size 432x288 with 1 Axes>"
      ]
     },
     "metadata": {
      "needs_background": "light"
     },
     "output_type": "display_data"
    }
   ],
   "source": [
    "plt.hist(last_monthly_purchase_base['days_since_last_txn'])\n",
    "plt.title(\"Histogram of days_since_last_txn\")\n",
    "plt.show()"
   ]
  },
  {
   "cell_type": "code",
   "execution_count": null,
   "id": "3662729c",
   "metadata": {},
   "outputs": [],
   "source": [
    "# Based on the values you observe in the histogram, impute the remaining NaN values (i.e. for the initial months before a client\n",
    "# makes a purchase). "
   ]
  },
  {
   "cell_type": "code",
   "execution_count": null,
   "id": "e5adbc5c",
   "metadata": {},
   "outputs": [],
   "source": [
    "# There is only one row with NaT in last_monthly_purchase_base, which is the first row.\n",
    "# We do not know any information before 2011-05-31 / min of data.\n",
    "# I will replace NaT with 0."
   ]
  },
  {
   "cell_type": "code",
   "execution_count": 183,
   "id": "a7e00334",
   "metadata": {},
   "outputs": [
    {
     "data": {
      "text/html": [
       "<div>\n",
       "<style scoped>\n",
       "    .dataframe tbody tr th:only-of-type {\n",
       "        vertical-align: middle;\n",
       "    }\n",
       "\n",
       "    .dataframe tbody tr th {\n",
       "        vertical-align: top;\n",
       "    }\n",
       "\n",
       "    .dataframe thead th {\n",
       "        text-align: right;\n",
       "    }\n",
       "</style>\n",
       "<table border=\"1\" class=\"dataframe\">\n",
       "  <thead>\n",
       "    <tr style=\"text-align: right;\">\n",
       "      <th></th>\n",
       "      <th>CLNT_NO</th>\n",
       "      <th>ME_DT</th>\n",
       "      <th>last_monthly_purchase</th>\n",
       "      <th>days_since_last_txn</th>\n",
       "    </tr>\n",
       "  </thead>\n",
       "  <tbody>\n",
       "    <tr>\n",
       "      <th>157064</th>\n",
       "      <td>CS1112</td>\n",
       "      <td>2011-05-31</td>\n",
       "      <td>0</td>\n",
       "      <td>0.0</td>\n",
       "    </tr>\n",
       "    <tr>\n",
       "      <th>157058</th>\n",
       "      <td>CS1112</td>\n",
       "      <td>2011-06-30</td>\n",
       "      <td>2011-06-15 00:00:00</td>\n",
       "      <td>15.0</td>\n",
       "    </tr>\n",
       "    <tr>\n",
       "      <th>157044</th>\n",
       "      <td>CS1112</td>\n",
       "      <td>2011-07-31</td>\n",
       "      <td>2011-06-15 00:00:00</td>\n",
       "      <td>46.0</td>\n",
       "    </tr>\n",
       "    <tr>\n",
       "      <th>157069</th>\n",
       "      <td>CS1112</td>\n",
       "      <td>2011-08-31</td>\n",
       "      <td>2011-08-19 00:00:00</td>\n",
       "      <td>12.0</td>\n",
       "    </tr>\n",
       "    <tr>\n",
       "      <th>157060</th>\n",
       "      <td>CS1112</td>\n",
       "      <td>2011-09-30</td>\n",
       "      <td>2011-08-19 00:00:00</td>\n",
       "      <td>42.0</td>\n",
       "    </tr>\n",
       "  </tbody>\n",
       "</table>\n",
       "</div>"
      ],
      "text/plain": [
       "       CLNT_NO      ME_DT last_monthly_purchase  days_since_last_txn\n",
       "157064  CS1112 2011-05-31                     0                  0.0\n",
       "157058  CS1112 2011-06-30   2011-06-15 00:00:00                 15.0\n",
       "157044  CS1112 2011-07-31   2011-06-15 00:00:00                 46.0\n",
       "157069  CS1112 2011-08-31   2011-08-19 00:00:00                 12.0\n",
       "157060  CS1112 2011-09-30   2011-08-19 00:00:00                 42.0"
      ]
     },
     "execution_count": 183,
     "metadata": {},
     "output_type": "execute_result"
    }
   ],
   "source": [
    "last_monthly_purchase_base = last_monthly_purchase_base.fillna(0)\n",
    "last_monthly_purchase_base.head()"
   ]
  },
  {
   "cell_type": "code",
   "execution_count": null,
   "id": "0d307303",
   "metadata": {},
   "outputs": [],
   "source": [
    "# Save the columns [’CLNT NO’, ’ME DT’, ’days since last txn’] as days since last txn.xlsx."
   ]
  },
  {
   "cell_type": "code",
   "execution_count": 184,
   "id": "64f654cf",
   "metadata": {},
   "outputs": [],
   "source": [
    "last_monthly_purchase_base[['CLNT_NO', 'ME_DT', 'days_since_last_txn']].to_excel(\"days_since_last_txn.xlsx\")"
   ]
  }
 ],
 "metadata": {
  "kernelspec": {
   "display_name": "Python 3 (ipykernel)",
   "language": "python",
   "name": "python3"
  },
  "language_info": {
   "codemirror_mode": {
    "name": "ipython",
    "version": 3
   },
   "file_extension": ".py",
   "mimetype": "text/x-python",
   "name": "python",
   "nbconvert_exporter": "python",
   "pygments_lexer": "ipython3",
   "version": "3.9.12"
  }
 },
 "nbformat": 4,
 "nbformat_minor": 5
}
